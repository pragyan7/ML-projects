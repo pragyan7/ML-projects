{
  "nbformat": 4,
  "nbformat_minor": 0,
  "metadata": {
    "colab": {
      "provenance": [],
      "authorship_tag": "ABX9TyPPZ/dJkGo6aAQz40s5hQ/B",
      "include_colab_link": true
    },
    "kernelspec": {
      "name": "python3",
      "display_name": "Python 3"
    },
    "language_info": {
      "name": "python"
    }
  },
  "cells": [
    {
      "cell_type": "markdown",
      "metadata": {
        "id": "view-in-github",
        "colab_type": "text"
      },
      "source": [
        "<a href=\"https://colab.research.google.com/github/pragyan7/ML-projects/blob/main/Sentiment_Classification_Using_Pretrained_Transformers_(DistilBERT).ipynb\" target=\"_parent\"><img src=\"https://colab.research.google.com/assets/colab-badge.svg\" alt=\"Open In Colab\"/></a>"
      ]
    },
    {
      "cell_type": "markdown",
      "source": [
        "To apply a pretrained NLP model (DistilBERT) to classify text sentiment, and demonstrate understanding of transformer pipelines, model behavior, and performance evaluation.\n",
        "\n",
        "🛠️ Tools & Libraries:\n",
        "*   Hugging Face Transformers\n",
        "*   Datasets (optional: IMDb / Yelp / custom CSV)\n",
        "*   Scikit-learn (for metrics)\n",
        "*   Gradio (for interactive UI - optional)\n",
        "*   Google Colab (runtime)"
      ],
      "metadata": {
        "id": "9PAHDuojgAL-"
      }
    },
    {
      "cell_type": "markdown",
      "source": [
        "1. Install and Import Dependencies"
      ],
      "metadata": {
        "id": "9CShDlFogbPB"
      }
    },
    {
      "cell_type": "code",
      "execution_count": 2,
      "metadata": {
        "id": "SJwd53sae5Gh"
      },
      "outputs": [],
      "source": [
        "!pip install -q transformers datasets"
      ]
    },
    {
      "cell_type": "code",
      "source": [
        "from transformers import pipeline\n",
        "import gradio as gr"
      ],
      "metadata": {
        "id": "Tr_6xS65fEHQ"
      },
      "execution_count": 5,
      "outputs": []
    },
    {
      "cell_type": "markdown",
      "source": [
        "2. Load Sentiment Classification Pipeline"
      ],
      "metadata": {
        "id": "v5KwYerPgecG"
      }
    },
    {
      "cell_type": "code",
      "source": [
        "classifier = pipeline(\n",
        "    \"sentiment-analysis\",\n",
        "    model=\"distilbert/distilbert-base-uncased-finetuned-sst-2-english\",\n",
        "    device=-1)                  # CPU; use device=0 if you enable GPU"
      ],
      "metadata": {
        "colab": {
          "base_uri": "https://localhost:8080/"
        },
        "id": "x4oq0hLwfJtN",
        "outputId": "9ba26a6f-31be-49a1-a346-e3e62b026864"
      },
      "execution_count": 6,
      "outputs": [
        {
          "output_type": "stream",
          "name": "stderr",
          "text": [
            "Device set to use cpu\n"
          ]
        }
      ]
    },
    {
      "cell_type": "markdown",
      "source": [
        "3. Run Some Test Predictions"
      ],
      "metadata": {
        "id": "gbqyCT55g1_G"
      }
    },
    {
      "cell_type": "code",
      "source": [
        "sample_texts = [\n",
        "    \"This movie was amazing!\",\n",
        "    \"The food was terrible and service was worse.\",\n",
        "    \"I'm not sure how I feel about this.\",\n",
        "]\n",
        "\n",
        "for text in sample_texts:\n",
        "    result = classifier(text)\n",
        "    print(f\"{text} => {result}\")"
      ],
      "metadata": {
        "colab": {
          "base_uri": "https://localhost:8080/"
        },
        "id": "HSw5W5xJfVZ-",
        "outputId": "930a5e03-eee9-4ddb-8d78-4bcaaffd4cc6"
      },
      "execution_count": 7,
      "outputs": [
        {
          "output_type": "stream",
          "name": "stdout",
          "text": [
            "This movie was amazing! => [{'label': 'POSITIVE', 'score': 0.9998800754547119}]\n",
            "The food was terrible and service was worse. => [{'label': 'NEGATIVE', 'score': 0.9997380375862122}]\n",
            "I'm not sure how I feel about this. => [{'label': 'NEGATIVE', 'score': 0.9992402791976929}]\n"
          ]
        }
      ]
    },
    {
      "cell_type": "markdown",
      "source": [
        "4. Build a Simple Gradio UI"
      ],
      "metadata": {
        "id": "PalXjiMRhIdS"
      }
    },
    {
      "cell_type": "code",
      "source": [
        "def predict_sentiment(text):\n",
        "    result = classifier(text)[0]\n",
        "    return f\"{result['label']} ({result['score']:.4f})\"\n",
        "\n",
        "gr.Interface(fn=predict_sentiment, inputs='text', outputs='text', title='Sentiment Analysis').launch()"
      ],
      "metadata": {
        "colab": {
          "base_uri": "https://localhost:8080/",
          "height": 653
        },
        "id": "dO-MMI8rhEsu",
        "outputId": "f4ad4b8a-9f3e-4f8f-9cde-038073584406"
      },
      "execution_count": 10,
      "outputs": [
        {
          "output_type": "stream",
          "name": "stdout",
          "text": [
            "It looks like you are running Gradio on a hosted a Jupyter notebook. For the Gradio app to work, sharing must be enabled. Automatically setting `share=True` (you can turn this off by setting `share=False` in `launch()` explicitly).\n",
            "\n",
            "Colab notebook detected. To show errors in colab notebook, set debug=True in launch()\n",
            "* Running on public URL: https://063f0b3660b88c9b7c.gradio.live\n",
            "\n",
            "This share link expires in 1 week. For free permanent hosting and GPU upgrades, run `gradio deploy` from the terminal in the working directory to deploy to Hugging Face Spaces (https://huggingface.co/spaces)\n"
          ]
        },
        {
          "output_type": "display_data",
          "data": {
            "text/plain": [
              "<IPython.core.display.HTML object>"
            ],
            "text/html": [
              "<div><iframe src=\"https://063f0b3660b88c9b7c.gradio.live\" width=\"100%\" height=\"500\" allow=\"autoplay; camera; microphone; clipboard-read; clipboard-write;\" frameborder=\"0\" allowfullscreen></iframe></div>"
            ]
          },
          "metadata": {}
        },
        {
          "output_type": "execute_result",
          "data": {
            "text/plain": []
          },
          "metadata": {},
          "execution_count": 10
        }
      ]
    },
    {
      "cell_type": "markdown",
      "source": [
        "5. Evaluate on a Dataset (Optional)"
      ],
      "metadata": {
        "id": "5K5uRXTkkjlD"
      }
    },
    {
      "cell_type": "code",
      "source": [
        "# from datasets import load_dataset\n",
        "# from sklearn.metrics import classification_report\n",
        "\n",
        "# dataset = load_dataset(\"imdb\", split=\"test[:100]\", cache_dir=\"/tmp/imdb_cache\")\n",
        "# texts = dataset['text']\n",
        "# labels = dataset['label']\n",
        "\n",
        "# preds = [classifier(text)[0] for text in texts]\n",
        "# true_labels = [\"POSITIVE\" if label == 1 else \"NEGATIVE\" for label in labels]\n",
        "\n",
        "# print(classification_report(true_labels, preds))"
      ],
      "metadata": {
        "id": "HRLoTRYDj9qc"
      },
      "execution_count": 14,
      "outputs": []
    },
    {
      "cell_type": "code",
      "source": [],
      "metadata": {
        "id": "7vANeLVjlUSJ"
      },
      "execution_count": null,
      "outputs": []
    }
  ]
}