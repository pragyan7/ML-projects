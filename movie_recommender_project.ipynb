{
  "nbformat": 4,
  "nbformat_minor": 0,
  "metadata": {
    "colab": {
      "provenance": [],
      "authorship_tag": "ABX9TyN1VigHGKm0J0pou5ONH22+",
      "include_colab_link": true
    },
    "kernelspec": {
      "name": "python3",
      "display_name": "Python 3"
    },
    "language_info": {
      "name": "python"
    }
  },
  "cells": [
    {
      "cell_type": "markdown",
      "metadata": {
        "id": "view-in-github",
        "colab_type": "text"
      },
      "source": [
        "<a href=\"https://colab.research.google.com/github/pragyan7/ML-projects/blob/main/movie_recommender_project.ipynb\" target=\"_parent\"><img src=\"https://colab.research.google.com/assets/colab-badge.svg\" alt=\"Open In Colab\"/></a>"
      ]
    },
    {
      "cell_type": "markdown",
      "source": [
        "**🎬 Movie Recommender System Using Cosine Similarity (MovieLens)**"
      ],
      "metadata": {
        "id": "-0uPRwNdIowo"
      }
    },
    {
      "cell_type": "markdown",
      "source": [
        "✅ STEP 1: Import Libraries"
      ],
      "metadata": {
        "id": "tVG6pzD2Hu54"
      }
    },
    {
      "cell_type": "code",
      "source": [
        "import pandas as pd\n",
        "import numpy as np\n",
        "import matplotlib.pyplot as plt\n",
        "from sklearn.metrics.pairwise import cosine_similarity\n",
        "from ipywidgets import interact, widgets\n",
        "import warnings\n",
        "warnings.filterwarnings('ignore')"
      ],
      "metadata": {
        "id": "3ZLdNP4mKxRx"
      },
      "execution_count": 1,
      "outputs": []
    },
    {
      "cell_type": "markdown",
      "source": [
        "✅ STEP 2: Download & Load MovieLens Data"
      ],
      "metadata": {
        "id": "_m_kDXzPK-rP"
      }
    },
    {
      "cell_type": "code",
      "source": [
        "!wget https://files.grouplens.org/datasets/movielens/ml-latest-small.zip\n",
        "!unzip -q ml-latest-small.zip"
      ],
      "metadata": {
        "colab": {
          "base_uri": "https://localhost:8080/"
        },
        "id": "_EADoJp7JHTp",
        "outputId": "c21991fa-421c-4b93-9fe2-a422d33930de"
      },
      "execution_count": 2,
      "outputs": [
        {
          "output_type": "stream",
          "name": "stdout",
          "text": [
            "--2025-07-01 08:49:25--  https://files.grouplens.org/datasets/movielens/ml-latest-small.zip\n",
            "Resolving files.grouplens.org (files.grouplens.org)... 128.101.65.152\n",
            "Connecting to files.grouplens.org (files.grouplens.org)|128.101.65.152|:443... connected.\n",
            "HTTP request sent, awaiting response... 200 OK\n",
            "Length: 978202 (955K) [application/zip]\n",
            "Saving to: ‘ml-latest-small.zip.2’\n",
            "\n",
            "ml-latest-small.zip 100%[===================>] 955.28K  2.40MB/s    in 0.4s    \n",
            "\n",
            "2025-07-01 08:49:26 (2.40 MB/s) - ‘ml-latest-small.zip.2’ saved [978202/978202]\n",
            "\n",
            "replace ml-latest-small/links.csv? [y]es, [n]o, [A]ll, [N]one, [r]ename: "
          ]
        }
      ]
    },
    {
      "cell_type": "code",
      "execution_count": 2,
      "metadata": {
        "id": "f9rZKSqB82ie"
      },
      "outputs": [],
      "source": [
        "ratings = pd.read_csv('ml-latest-small/ratings.csv')\n",
        "movies = pd.read_csv('ml-latest-small/movies.csv')"
      ]
    },
    {
      "cell_type": "code",
      "source": [
        "print(ratings.head())"
      ],
      "metadata": {
        "colab": {
          "base_uri": "https://localhost:8080/"
        },
        "id": "xmxsVOWv9d3S",
        "outputId": "bd7ded32-e5db-407d-83e9-d9eef4864290"
      },
      "execution_count": 3,
      "outputs": [
        {
          "output_type": "stream",
          "name": "stdout",
          "text": [
            "   userId  movieId  rating  timestamp\n",
            "0       1        1     4.0  964982703\n",
            "1       1        3     4.0  964981247\n",
            "2       1        6     4.0  964982224\n",
            "3       1       47     5.0  964983815\n",
            "4       1       50     5.0  964982931\n"
          ]
        }
      ]
    },
    {
      "cell_type": "code",
      "source": [
        "print(movies.head())"
      ],
      "metadata": {
        "colab": {
          "base_uri": "https://localhost:8080/"
        },
        "id": "EQ-uL9SaJSrM",
        "outputId": "dc9d6454-5ed9-42fd-b7e2-c3124cd2f8af"
      },
      "execution_count": 4,
      "outputs": [
        {
          "output_type": "stream",
          "name": "stdout",
          "text": [
            "   movieId                               title  \\\n",
            "0        1                    Toy Story (1995)   \n",
            "1        2                      Jumanji (1995)   \n",
            "2        3             Grumpier Old Men (1995)   \n",
            "3        4            Waiting to Exhale (1995)   \n",
            "4        5  Father of the Bride Part II (1995)   \n",
            "\n",
            "                                        genres  \n",
            "0  Adventure|Animation|Children|Comedy|Fantasy  \n",
            "1                   Adventure|Children|Fantasy  \n",
            "2                               Comedy|Romance  \n",
            "3                         Comedy|Drama|Romance  \n",
            "4                                       Comedy  \n"
          ]
        }
      ]
    },
    {
      "cell_type": "code",
      "source": [
        "print(ratings.info())"
      ],
      "metadata": {
        "colab": {
          "base_uri": "https://localhost:8080/"
        },
        "id": "XBAfhvzQ9e4r",
        "outputId": "d3600d43-9947-49e3-bfb1-ecc478666ca8"
      },
      "execution_count": 5,
      "outputs": [
        {
          "output_type": "stream",
          "name": "stdout",
          "text": [
            "<class 'pandas.core.frame.DataFrame'>\n",
            "RangeIndex: 100836 entries, 0 to 100835\n",
            "Data columns (total 4 columns):\n",
            " #   Column     Non-Null Count   Dtype  \n",
            "---  ------     --------------   -----  \n",
            " 0   userId     100836 non-null  int64  \n",
            " 1   movieId    100836 non-null  int64  \n",
            " 2   rating     100836 non-null  float64\n",
            " 3   timestamp  100836 non-null  int64  \n",
            "dtypes: float64(1), int64(3)\n",
            "memory usage: 3.1 MB\n",
            "None\n"
          ]
        }
      ]
    },
    {
      "cell_type": "code",
      "source": [
        "print(movies.info())"
      ],
      "metadata": {
        "colab": {
          "base_uri": "https://localhost:8080/"
        },
        "id": "P7-QdhnO9edO",
        "outputId": "60add542-9202-4f76-cd0b-0fe02717ec4b"
      },
      "execution_count": 6,
      "outputs": [
        {
          "output_type": "stream",
          "name": "stdout",
          "text": [
            "<class 'pandas.core.frame.DataFrame'>\n",
            "RangeIndex: 9742 entries, 0 to 9741\n",
            "Data columns (total 3 columns):\n",
            " #   Column   Non-Null Count  Dtype \n",
            "---  ------   --------------  ----- \n",
            " 0   movieId  9742 non-null   int64 \n",
            " 1   title    9742 non-null   object\n",
            " 2   genres   9742 non-null   object\n",
            "dtypes: int64(1), object(2)\n",
            "memory usage: 228.5+ KB\n",
            "None\n"
          ]
        }
      ]
    },
    {
      "cell_type": "code",
      "source": [
        "print(f\"Ratings shape: {ratings.shape}\")\n",
        "print(f\"Movies shape: {movies.shape}\")"
      ],
      "metadata": {
        "colab": {
          "base_uri": "https://localhost:8080/"
        },
        "id": "drA_HULhLLzf",
        "outputId": "1f53af15-60eb-42ed-ddd6-19de789f6964"
      },
      "execution_count": 7,
      "outputs": [
        {
          "output_type": "stream",
          "name": "stdout",
          "text": [
            "Ratings shape: (100836, 4)\n",
            "Movies shape: (9742, 3)\n"
          ]
        }
      ]
    },
    {
      "cell_type": "markdown",
      "source": [
        "✅ STEP 3: Explore Rating Distribution"
      ],
      "metadata": {
        "id": "5ChNO5s4IALj"
      }
    },
    {
      "cell_type": "code",
      "source": [
        "ratings['rating'].hist(bins=5, edgecolor='black')\n",
        "plt.title('Rating Distribution')\n",
        "plt.xlabel('Rating')\n",
        "plt.ylabel('Frequency')\n",
        "plt.show()"
      ],
      "metadata": {
        "colab": {
          "base_uri": "https://localhost:8080/",
          "height": 472
        },
        "id": "wDr5E7Qi9bIK",
        "outputId": "176921c3-9799-4916-fec3-acb5550ff236"
      },
      "execution_count": 8,
      "outputs": [
        {
          "output_type": "display_data",
          "data": {
            "text/plain": [
              "<Figure size 640x480 with 1 Axes>"
            ],
            "image/png": "[encoded data removed]"
          },
          "metadata": {}
        }
      ]
    },
    {
      "cell_type": "markdown",
      "source": [
        "✅ STEP 4: Merge Ratings with Movies"
      ],
      "metadata": {
        "id": "iXf6IM-KLn9m"
      }
    },
    {
      "cell_type": "code",
      "source": [
        "data = pd.merge(ratings, movies, on='movieId')\n",
        "data.head()"
      ],
      "metadata": {
        "colab": {
          "base_uri": "https://localhost:8080/",
          "height": 380
        },
        "id": "gdKp1eI3LrGv",
        "outputId": "ab8114b6-af44-488d-82bd-2bbd6e02efc5"
      },
      "execution_count": 9,
      "outputs": [
        {
          "output_type": "execute_result",
          "data": {
            "text/plain": [
              "   userId  movieId  rating  timestamp                        title  \\\n",
              "0       1        1     4.0  964982703             Toy Story (1995)   \n",
              "1       1        3     4.0  964981247      Grumpier Old Men (1995)   \n",
              "2       1        6     4.0  964982224                  Heat (1995)   \n",
              "3       1       47     5.0  964983815  Seven (a.k.a. Se7en) (1995)   \n",
              "4       1       50     5.0  964982931   Usual Suspects, The (1995)   \n",
              "\n",
              "                                        genres  \n",
              "0  Adventure|Animation|Children|Comedy|Fantasy  \n",
              "1                               Comedy|Romance  \n",
              "2                        Action|Crime|Thriller  \n",
              "3                             Mystery|Thriller  \n",
              "4                       Crime|Mystery|Thriller  "
            ],
            "text/html": [
              "\n",
              "  <div id=\"df-628a61ad-d331-4931-92c2-e6d5ee57e25b\" class=\"colab-df-container\">\n",
              "    <div>\n",
              "<style scoped>\n",
              "    .dataframe tbody tr th:only-of-type {\n",
              "        vertical-align: middle;\n",
              "    }\n",
              "\n",
              "    .dataframe tbody tr th {\n",
              "        vertical-align: top;\n",
              "    }\n",
              "\n",
              "    .dataframe thead th {\n",
              "        text-align: right;\n",
              "    }\n",
              "</style>\n",
              "<table border=\"1\" class=\"dataframe\">\n",
              "  <thead>\n",
              "    <tr style=\"text-align: right;\">\n",
              "      <th></th>\n",
              "      <th>userId</th>\n",
              "      <th>movieId</th>\n",
              "      <th>rating</th>\n",
              "      <th>timestamp</th>\n",
              "      <th>title</th>\n",
              "      <th>genres</th>\n",
              "    </tr>\n",
              "  </thead>\n",
              "  <tbody>\n",
              "    <tr>\n",
              "      <th>0</th>\n",
              "      <td>1</td>\n",
              "      <td>1</td>\n",
              "      <td>4.0</td>\n",
              "      <td>964982703</td>\n",
              "      <td>Toy Story (1995)</td>\n",
              "      <td>Adventure|Animation|Children|Comedy|Fantasy</td>\n",
              "    </tr>\n",
              "    <tr>\n",
              "      <th>1</th>\n",
              "      <td>1</td>\n",
              "      <td>3</td>\n",
              "      <td>4.0</td>\n",
              "      <td>964981247</td>\n",
              "      <td>Grumpier Old Men (1995)</td>\n",
              "      <td>Comedy|Romance</td>\n",
              "    </tr>\n",
              "    <tr>\n",
              "      <th>2</th>\n",
              "      <td>1</td>\n",
              "      <td>6</td>\n",
              "      <td>4.0</td>\n",
              "      <td>964982224</td>\n",
              "      <td>Heat (1995)</td>\n",
              "      <td>Action|Crime|Thriller</td>\n",
              "    </tr>\n",
              "    <tr>\n",
              "      <th>3</th>\n",
              "      <td>1</td>\n",
              "      <td>47</td>\n",
              "      <td>5.0</td>\n",
              "      <td>964983815</td>\n",
              "      <td>Seven (a.k.a. Se7en) (1995)</td>\n",
              "      <td>Mystery|Thriller</td>\n",
              "    </tr>\n",
              "    <tr>\n",
              "      <th>4</th>\n",
              "      <td>1</td>\n",
              "      <td>50</td>\n",
              "      <td>5.0</td>\n",
              "      <td>964982931</td>\n",
              "      <td>Usual Suspects, The (1995)</td>\n",
              "      <td>Crime|Mystery|Thriller</td>\n",
              "    </tr>\n",
              "  </tbody>\n",
              "</table>\n",
              "</div>\n",
              "    <div class=\"colab-df-buttons\">\n",
              "\n",
              "  <div class=\"colab-df-container\">\n",
              "    <button class=\"colab-df-convert\" onclick=\"convertToInteractive('df-628a61ad-d331-4931-92c2-e6d5ee57e25b')\"\n",
              "            title=\"Convert this dataframe to an interactive table.\"\n",
              "            style=\"display:none;\">\n",
              "\n",
              "  <svg xmlns=\"http://www.w3.org/2000/svg\" height=\"24px\" viewBox=\"0 -960 960 960\">\n",
              "    <path d=\"M120-120v-720h720v720H120Zm60-500h600v-160H180v160Zm220 220h160v-160H400v160Zm0 220h160v-160H400v160ZM180-400h160v-160H180v160Zm440 0h160v-160H620v160ZM180-180h160v-160H180v160Zm440 0h160v-160H620v160Z\"/>\n",
              "  </svg>\n",
              "    </button>\n",
              "\n",
              "  <style>\n",
              "    .colab-df-container {\n",
              "      display:flex;\n",
              "      gap: 12px;\n",
              "    }\n",
              "\n",
              "    .colab-df-convert {\n",
              "      background-color: #E8F0FE;\n",
              "      border: none;\n",
              "      border-radius: 50%;\n",
              "      cursor: pointer;\n",
              "      display: none;\n",
              "      fill: #1967D2;\n",
              "      height: 32px;\n",
              "      padding: 0 0 0 0;\n",
              "      width: 32px;\n",
              "    }\n",
              "\n",
              "    .colab-df-convert:hover {\n",
              "      background-color: #E2EBFA;\n",
              "      box-shadow: 0px 1px 2px rgba(60, 64, 67, 0.3), 0px 1px 3px 1px rgba(60, 64, 67, 0.15);\n",
              "      fill: #174EA6;\n",
              "    }\n",
              "\n",
              "    .colab-df-buttons div {\n",
              "      margin-bottom: 4px;\n",
              "    }\n",
              "\n",
              "    [theme=dark] .colab-df-convert {\n",
              "      background-color: #3B4455;\n",
              "      fill: #D2E3FC;\n",
              "    }\n",
              "\n",
              "    [theme=dark] .colab-df-convert:hover {\n",
              "      background-color: #434B5C;\n",
              "      box-shadow: 0px 1px 3px 1px rgba(0, 0, 0, 0.15);\n",
              "      filter: drop-shadow(0px 1px 2px rgba(0, 0, 0, 0.3));\n",
              "      fill: #FFFFFF;\n",
              "    }\n",
              "  </style>\n",
              "\n",
              "    <script>\n",
              "      const buttonEl =\n",
              "        document.querySelector('#df-628a61ad-d331-4931-92c2-e6d5ee57e25b button.colab-df-convert');\n",
              "      buttonEl.style.display =\n",
              "        google.colab.kernel.accessAllowed ? 'block' : 'none';\n",
              "\n",
              "      async function convertToInteractive(key) {\n",
              "        const element = document.querySelector('#df-628a61ad-d331-4931-92c2-e6d5ee57e25b');\n",
              "        const dataTable =\n",
              "          await google.colab.kernel.invokeFunction('convertToInteractive',\n",
              "                                                    [key], {});\n",
              "        if (!dataTable) return;\n",
              "\n",
              "        const docLinkHtml = 'Like what you see? Visit the ' +\n",
              "          '<a target=\"_blank\" href=https://colab.research.google.com/notebooks/data_table.ipynb>data table notebook</a>'\n",
              "          + ' to learn more about interactive tables.';\n",
              "        element.innerHTML = '';\n",
              "        dataTable['output_type'] = 'display_data';\n",
              "        await google.colab.output.renderOutput(dataTable, element);\n",
              "        const docLink = document.createElement('div');\n",
              "        docLink.innerHTML = docLinkHtml;\n",
              "        element.appendChild(docLink);\n",
              "      }\n",
              "    </script>\n",
              "  </div>\n",
              "\n",
              "\n",
              "    <div id=\"df-c751dd57-d50d-4427-82b2-e785812659a8\">\n",
              "      <button class=\"colab-df-quickchart\" onclick=\"quickchart('df-c751dd57-d50d-4427-82b2-e785812659a8')\"\n",
              "                title=\"Suggest charts\"\n",
              "                style=\"display:none;\">\n",
              "\n",
              "<svg xmlns=\"http://www.w3.org/2000/svg\" height=\"24px\"viewBox=\"0 0 24 24\"\n",
              "     width=\"24px\">\n",
              "    <g>\n",
              "        <path d=\"M19 3H5c-1.1 0-2 .9-2 2v14c0 1.1.9 2 2 2h14c1.1 0 2-.9 2-2V5c0-1.1-.9-2-2-2zM9 17H7v-7h2v7zm4 0h-2V7h2v10zm4 0h-2v-4h2v4z\"/>\n",
              "    </g>\n",
              "</svg>\n",
              "      </button>\n",
              "\n",
              "<style>\n",
              "  .colab-df-quickchart {\n",
              "      --bg-color: #E8F0FE;\n",
              "      --fill-color: #1967D2;\n",
              "      --hover-bg-color: #E2EBFA;\n",
              "      --hover-fill-color: #174EA6;\n",
              "      --disabled-fill-color: #AAA;\n",
              "      --disabled-bg-color: #DDD;\n",
              "  }\n",
              "\n",
              "  [theme=dark] .colab-df-quickchart {\n",
              "      --bg-color: #3B4455;\n",
              "      --fill-color: #D2E3FC;\n",
              "      --hover-bg-color: #434B5C;\n",
              "      --hover-fill-color: #FFFFFF;\n",
              "      --disabled-bg-color: #3B4455;\n",
              "      --disabled-fill-color: #666;\n",
              "  }\n",
              "\n",
              "  .colab-df-quickchart {\n",
              "    background-color: var(--bg-color);\n",
              "    border: none;\n",
              "    border-radius: 50%;\n",
              "    cursor: pointer;\n",
              "    display: none;\n",
              "    fill: var(--fill-color);\n",
              "    height: 32px;\n",
              "    padding: 0;\n",
              "    width: 32px;\n",
              "  }\n",
              "\n",
              "  .colab-df-quickchart:hover {\n",
              "    background-color: var(--hover-bg-color);\n",
              "    box-shadow: 0 1px 2px rgba(60, 64, 67, 0.3), 0 1px 3px 1px rgba(60, 64, 67, 0.15);\n",
              "    fill: var(--button-hover-fill-color);\n",
              "  }\n",
              "\n",
              "  .colab-df-quickchart-complete:disabled,\n",
              "  .colab-df-quickchart-complete:disabled:hover {\n",
              "    background-color: var(--disabled-bg-color);\n",
              "    fill: var(--disabled-fill-color);\n",
              "    box-shadow: none;\n",
              "  }\n",
              "\n",
              "  .colab-df-spinner {\n",
              "    border: 2px solid var(--fill-color);\n",
              "    border-color: transparent;\n",
              "    border-bottom-color: var(--fill-color);\n",
              "    animation:\n",
              "      spin 1s steps(1) infinite;\n",
              "  }\n",
              "\n",
              "  @keyframes spin {\n",
              "    0% {\n",
              "      border-color: transparent;\n",
              "      border-bottom-color: var(--fill-color);\n",
              "      border-left-color: var(--fill-color);\n",
              "    }\n",
              "    20% {\n",
              "      border-color: transparent;\n",
              "      border-left-color: var(--fill-color);\n",
              "      border-top-color: var(--fill-color);\n",
              "    }\n",
              "    30% {\n",
              "      border-color: transparent;\n",
              "      border-left-color: var(--fill-color);\n",
              "      border-top-color: var(--fill-color);\n",
              "      border-right-color: var(--fill-color);\n",
              "    }\n",
              "    40% {\n",
              "      border-color: transparent;\n",
              "      border-right-color: var(--fill-color);\n",
              "      border-top-color: var(--fill-color);\n",
              "    }\n",
              "    60% {\n",
              "      border-color: transparent;\n",
              "      border-right-color: var(--fill-color);\n",
              "    }\n",
              "    80% {\n",
              "      border-color: transparent;\n",
              "      border-right-color: var(--fill-color);\n",
              "      border-bottom-color: var(--fill-color);\n",
              "    }\n",
              "    90% {\n",
              "      border-color: transparent;\n",
              "      border-bottom-color: var(--fill-color);\n",
              "    }\n",
              "  }\n",
              "</style>\n",
              "\n",
              "      <script>\n",
              "        async function quickchart(key) {\n",
              "          const quickchartButtonEl =\n",
              "            document.querySelector('#' + key + ' button');\n",
              "          quickchartButtonEl.disabled = true;  // To prevent multiple clicks.\n",
              "          quickchartButtonEl.classList.add('colab-df-spinner');\n",
              "          try {\n",
              "            const charts = await google.colab.kernel.invokeFunction(\n",
              "                'suggestCharts', [key], {});\n",
              "          } catch (error) {\n",
              "            console.error('Error during call to suggestCharts:', error);\n",
              "          }\n",
              "          quickchartButtonEl.classList.remove('colab-df-spinner');\n",
              "          quickchartButtonEl.classList.add('colab-df-quickchart-complete');\n",
              "        }\n",
              "        (() => {\n",
              "          let quickchartButtonEl =\n",
              "            document.querySelector('#df-c751dd57-d50d-4427-82b2-e785812659a8 button');\n",
              "          quickchartButtonEl.style.display =\n",
              "            google.colab.kernel.accessAllowed ? 'block' : 'none';\n",
              "        })();\n",
              "      </script>\n",
              "    </div>\n",
              "\n",
              "    </div>\n",
              "  </div>\n"
            ],
            "application/vnd.google.colaboratory.intrinsic+json": {
              "type": "dataframe",
              "variable_name": "data"
            }
          },
          "metadata": {},
          "execution_count": 9
        }
      ]
    },
    {
      "cell_type": "markdown",
      "source": [
        "✅ STEP 5: Create User-Movie Matrix"
      ],
      "metadata": {
        "id": "OF8s1l7rLvt6"
      }
    },
    {
      "cell_type": "code",
      "source": [
        "user_movie_matrix = data.pivot_table(index='userId', columns='title', values='rating')\n",
        "print(user_movie_matrix)\n",
        "\n",
        "# popular_movies = user_movie_matrix.mean().sort_values(ascending=False)\n",
        "# print(popular_movies.head(10)"
      ],
      "metadata": {
        "colab": {
          "base_uri": "https://localhost:8080/"
        },
        "id": "BDz02nYy-G0q",
        "outputId": "6f54f53d-6738-4bdf-821e-2ad90aaf2782"
      },
      "execution_count": 10,
      "outputs": [
        {
          "output_type": "stream",
          "name": "stdout",
          "text": [
            "title   '71 (2014)  'Hellboy': The Seeds of Creation (2004)  \\\n",
            "userId                                                        \n",
            "1              NaN                                      NaN   \n",
            "2              NaN                                      NaN   \n",
            "3              NaN                                      NaN   \n",
            "4              NaN                                      NaN   \n",
            "5              NaN                                      NaN   \n",
            "...            ...                                      ...   \n",
            "606            NaN                                      NaN   \n",
            "607            NaN                                      NaN   \n",
            "608            NaN                                      NaN   \n",
            "609            NaN                                      NaN   \n",
            "610            4.0                                      NaN   \n",
            "\n",
            "title   'Round Midnight (1986)  'Salem's Lot (2004)  \\\n",
            "userId                                                \n",
            "1                          NaN                  NaN   \n",
            "2                          NaN                  NaN   \n",
            "3                          NaN                  NaN   \n",
            "4                          NaN                  NaN   \n",
            "5                          NaN                  NaN   \n",
            "...                        ...                  ...   \n",
            "606                        NaN                  NaN   \n",
            "607                        NaN                  NaN   \n",
            "608                        NaN                  NaN   \n",
            "609                        NaN                  NaN   \n",
            "610                        NaN                  NaN   \n",
            "\n",
            "title   'Til There Was You (1997)  'Tis the Season for Love (2015)  \\\n",
            "userId                                                               \n",
            "1                             NaN                              NaN   \n",
            "2                             NaN                              NaN   \n",
            "3                             NaN                              NaN   \n",
            "4                             NaN                              NaN   \n",
            "5                             NaN                              NaN   \n",
            "...                           ...                              ...   \n",
            "606                           NaN                              NaN   \n",
            "607                           NaN                              NaN   \n",
            "608                           NaN                              NaN   \n",
            "609                           NaN                              NaN   \n",
            "610                           NaN                              NaN   \n",
            "\n",
            "title   'burbs, The (1989)  'night Mother (1986)  (500) Days of Summer (2009)  \\\n",
            "userId                                                                          \n",
            "1                      NaN                   NaN                          NaN   \n",
            "2                      NaN                   NaN                          NaN   \n",
            "3                      NaN                   NaN                          NaN   \n",
            "4                      NaN                   NaN                          NaN   \n",
            "5                      NaN                   NaN                          NaN   \n",
            "...                    ...                   ...                          ...   \n",
            "606                    NaN                   NaN                          NaN   \n",
            "607                    NaN                   NaN                          NaN   \n",
            "608                    NaN                   NaN                          NaN   \n",
            "609                    NaN                   NaN                          NaN   \n",
            "610                    NaN                   NaN                          3.5   \n",
            "\n",
            "title   *batteries not included (1987)  ...  Zulu (2013)  [REC] (2007)  \\\n",
            "userId                                  ...                              \n",
            "1                                  NaN  ...          NaN           NaN   \n",
            "2                                  NaN  ...          NaN           NaN   \n",
            "3                                  NaN  ...          NaN           NaN   \n",
            "4                                  NaN  ...          NaN           NaN   \n",
            "5                                  NaN  ...          NaN           NaN   \n",
            "...                                ...  ...          ...           ...   \n",
            "606                                NaN  ...          NaN           NaN   \n",
            "607                                NaN  ...          NaN           NaN   \n",
            "608                                NaN  ...          NaN           NaN   \n",
            "609                                NaN  ...          NaN           NaN   \n",
            "610                                NaN  ...          NaN           4.0   \n",
            "\n",
            "title   [REC]² (2009)  [REC]³ 3 Génesis (2012)  \\\n",
            "userId                                           \n",
            "1                 NaN                      NaN   \n",
            "2                 NaN                      NaN   \n",
            "3                 NaN                      NaN   \n",
            "4                 NaN                      NaN   \n",
            "5                 NaN                      NaN   \n",
            "...               ...                      ...   \n",
            "606               NaN                      NaN   \n",
            "607               NaN                      NaN   \n",
            "608               NaN                      NaN   \n",
            "609               NaN                      NaN   \n",
            "610               3.5                      3.0   \n",
            "\n",
            "title   anohana: The Flower We Saw That Day - The Movie (2013)  \\\n",
            "userId                                                           \n",
            "1                                                     NaN        \n",
            "2                                                     NaN        \n",
            "3                                                     NaN        \n",
            "4                                                     NaN        \n",
            "5                                                     NaN        \n",
            "...                                                   ...        \n",
            "606                                                   NaN        \n",
            "607                                                   NaN        \n",
            "608                                                   NaN        \n",
            "609                                                   NaN        \n",
            "610                                                   NaN        \n",
            "\n",
            "title   eXistenZ (1999)  xXx (2002)  xXx: State of the Union (2005)  \\\n",
            "userId                                                                \n",
            "1                   NaN         NaN                             NaN   \n",
            "2                   NaN         NaN                             NaN   \n",
            "3                   NaN         NaN                             NaN   \n",
            "4                   NaN         NaN                             NaN   \n",
            "5                   NaN         NaN                             NaN   \n",
            "...                 ...         ...                             ...   \n",
            "606                 NaN         NaN                             NaN   \n",
            "607                 NaN         NaN                             NaN   \n",
            "608                 4.5         3.5                             NaN   \n",
            "609                 NaN         NaN                             NaN   \n",
            "610                 NaN         2.0                             1.5   \n",
            "\n",
            "title   ¡Three Amigos! (1986)  À nous la liberté (Freedom for Us) (1931)  \n",
            "userId                                                                    \n",
            "1                         4.0                                        NaN  \n",
            "2                         NaN                                        NaN  \n",
            "3                         NaN                                        NaN  \n",
            "4                         NaN                                        NaN  \n",
            "5                         NaN                                        NaN  \n",
            "...                       ...                                        ...  \n",
            "606                       NaN                                        NaN  \n",
            "607                       NaN                                        NaN  \n",
            "608                       NaN                                        NaN  \n",
            "609                       NaN                                        NaN  \n",
            "610                       NaN                                        NaN  \n",
            "\n",
            "[610 rows x 9719 columns]\n"
          ]
        }
      ]
    },
    {
      "cell_type": "code",
      "source": [
        "user_movie_matrix_filled = user_movie_matrix.fillna(0)\n",
        "print(user_movie_matrix_filled)\n",
        "print(f\"Matrix shape: {user_movie_matrix_filled.shape}\")"
      ],
      "metadata": {
        "colab": {
          "base_uri": "https://localhost:8080/"
        },
        "id": "tcNQAwccMAoz",
        "outputId": "9dd7f202-f61f-4fc8-83e8-3e5f861dca35"
      },
      "execution_count": 12,
      "outputs": [
        {
          "output_type": "stream",
          "name": "stdout",
          "text": [
            "title   '71 (2014)  'Hellboy': The Seeds of Creation (2004)  \\\n",
            "userId                                                        \n",
            "1              0.0                                      0.0   \n",
            "2              0.0                                      0.0   \n",
            "3              0.0                                      0.0   \n",
            "4              0.0                                      0.0   \n",
            "5              0.0                                      0.0   \n",
            "...            ...                                      ...   \n",
            "606            0.0                                      0.0   \n",
            "607            0.0                                      0.0   \n",
            "608            0.0                                      0.0   \n",
            "609            0.0                                      0.0   \n",
            "610            4.0                                      0.0   \n",
            "\n",
            "title   'Round Midnight (1986)  'Salem's Lot (2004)  \\\n",
            "userId                                                \n",
            "1                          0.0                  0.0   \n",
            "2                          0.0                  0.0   \n",
            "3                          0.0                  0.0   \n",
            "4                          0.0                  0.0   \n",
            "5                          0.0                  0.0   \n",
            "...                        ...                  ...   \n",
            "606                        0.0                  0.0   \n",
            "607                        0.0                  0.0   \n",
            "608                        0.0                  0.0   \n",
            "609                        0.0                  0.0   \n",
            "610                        0.0                  0.0   \n",
            "\n",
            "title   'Til There Was You (1997)  'Tis the Season for Love (2015)  \\\n",
            "userId                                                               \n",
            "1                             0.0                              0.0   \n",
            "2                             0.0                              0.0   \n",
            "3                             0.0                              0.0   \n",
            "4                             0.0                              0.0   \n",
            "5                             0.0                              0.0   \n",
            "...                           ...                              ...   \n",
            "606                           0.0                              0.0   \n",
            "607                           0.0                              0.0   \n",
            "608                           0.0                              0.0   \n",
            "609                           0.0                              0.0   \n",
            "610                           0.0                              0.0   \n",
            "\n",
            "title   'burbs, The (1989)  'night Mother (1986)  (500) Days of Summer (2009)  \\\n",
            "userId                                                                          \n",
            "1                      0.0                   0.0                          0.0   \n",
            "2                      0.0                   0.0                          0.0   \n",
            "3                      0.0                   0.0                          0.0   \n",
            "4                      0.0                   0.0                          0.0   \n",
            "5                      0.0                   0.0                          0.0   \n",
            "...                    ...                   ...                          ...   \n",
            "606                    0.0                   0.0                          0.0   \n",
            "607                    0.0                   0.0                          0.0   \n",
            "608                    0.0                   0.0                          0.0   \n",
            "609                    0.0                   0.0                          0.0   \n",
            "610                    0.0                   0.0                          3.5   \n",
            "\n",
            "title   *batteries not included (1987)  ...  Zulu (2013)  [REC] (2007)  \\\n",
            "userId                                  ...                              \n",
            "1                                  0.0  ...          0.0           0.0   \n",
            "2                                  0.0  ...          0.0           0.0   \n",
            "3                                  0.0  ...          0.0           0.0   \n",
            "4                                  0.0  ...          0.0           0.0   \n",
            "5                                  0.0  ...          0.0           0.0   \n",
            "...                                ...  ...          ...           ...   \n",
            "606                                0.0  ...          0.0           0.0   \n",
            "607                                0.0  ...          0.0           0.0   \n",
            "608                                0.0  ...          0.0           0.0   \n",
            "609                                0.0  ...          0.0           0.0   \n",
            "610                                0.0  ...          0.0           4.0   \n",
            "\n",
            "title   [REC]² (2009)  [REC]³ 3 Génesis (2012)  \\\n",
            "userId                                           \n",
            "1                 0.0                      0.0   \n",
            "2                 0.0                      0.0   \n",
            "3                 0.0                      0.0   \n",
            "4                 0.0                      0.0   \n",
            "5                 0.0                      0.0   \n",
            "...               ...                      ...   \n",
            "606               0.0                      0.0   \n",
            "607               0.0                      0.0   \n",
            "608               0.0                      0.0   \n",
            "609               0.0                      0.0   \n",
            "610               3.5                      3.0   \n",
            "\n",
            "title   anohana: The Flower We Saw That Day - The Movie (2013)  \\\n",
            "userId                                                           \n",
            "1                                                     0.0        \n",
            "2                                                     0.0        \n",
            "3                                                     0.0        \n",
            "4                                                     0.0        \n",
            "5                                                     0.0        \n",
            "...                                                   ...        \n",
            "606                                                   0.0        \n",
            "607                                                   0.0        \n",
            "608                                                   0.0        \n",
            "609                                                   0.0        \n",
            "610                                                   0.0        \n",
            "\n",
            "title   eXistenZ (1999)  xXx (2002)  xXx: State of the Union (2005)  \\\n",
            "userId                                                                \n",
            "1                   0.0         0.0                             0.0   \n",
            "2                   0.0         0.0                             0.0   \n",
            "3                   0.0         0.0                             0.0   \n",
            "4                   0.0         0.0                             0.0   \n",
            "5                   0.0         0.0                             0.0   \n",
            "...                 ...         ...                             ...   \n",
            "606                 0.0         0.0                             0.0   \n",
            "607                 0.0         0.0                             0.0   \n",
            "608                 4.5         3.5                             0.0   \n",
            "609                 0.0         0.0                             0.0   \n",
            "610                 0.0         2.0                             1.5   \n",
            "\n",
            "title   ¡Three Amigos! (1986)  À nous la liberté (Freedom for Us) (1931)  \n",
            "userId                                                                    \n",
            "1                         4.0                                        0.0  \n",
            "2                         0.0                                        0.0  \n",
            "3                         0.0                                        0.0  \n",
            "4                         0.0                                        0.0  \n",
            "5                         0.0                                        0.0  \n",
            "...                       ...                                        ...  \n",
            "606                       0.0                                        0.0  \n",
            "607                       0.0                                        0.0  \n",
            "608                       0.0                                        0.0  \n",
            "609                       0.0                                        0.0  \n",
            "610                       0.0                                        0.0  \n",
            "\n",
            "[610 rows x 9719 columns]\n",
            "Matrix shape: (610, 9719)\n"
          ]
        }
      ]
    },
    {
      "cell_type": "markdown",
      "source": [
        "✅ STEP 6: Calculate Movie Similarity Matrix"
      ],
      "metadata": {
        "id": "2yCfg0GFMe4H"
      }
    },
    {
      "cell_type": "code",
      "source": [
        "movie_similarity = cosine_similarity(user_movie_matrix_filled.T)\n",
        "movie_similarity_df = pd.DataFrame(movie_similarity,\n",
        "                                   index=user_movie_matrix.columns,\n",
        "                                   columns=user_movie_matrix.columns)\n",
        "print(movie_similarity_df)"
      ],
      "metadata": {
        "colab": {
          "base_uri": "https://localhost:8080/"
        },
        "id": "mvhh7CGF_dgR",
        "outputId": "953dc25a-e682-4ad4-999a-1a74cee3cb4c"
      },
      "execution_count": 13,
      "outputs": [
        {
          "output_type": "stream",
          "name": "stdout",
          "text": [
            "title                                      '71 (2014)  \\\n",
            "title                                                   \n",
            "'71 (2014)                                   1.000000   \n",
            "'Hellboy': The Seeds of Creation (2004)      0.000000   \n",
            "'Round Midnight (1986)                       0.000000   \n",
            "'Salem's Lot (2004)                          0.000000   \n",
            "'Til There Was You (1997)                    0.000000   \n",
            "...                                               ...   \n",
            "eXistenZ (1999)                              0.000000   \n",
            "xXx (2002)                                   0.139431   \n",
            "xXx: State of the Union (2005)               0.327327   \n",
            "¡Three Amigos! (1986)                        0.000000   \n",
            "À nous la liberté (Freedom for Us) (1931)    0.000000   \n",
            "\n",
            "title                                      'Hellboy': The Seeds of Creation (2004)  \\\n",
            "title                                                                                \n",
            "'71 (2014)                                                                0.000000   \n",
            "'Hellboy': The Seeds of Creation (2004)                                   1.000000   \n",
            "'Round Midnight (1986)                                                    0.707107   \n",
            "'Salem's Lot (2004)                                                       0.000000   \n",
            "'Til There Was You (1997)                                                 0.000000   \n",
            "...                                                                            ...   \n",
            "eXistenZ (1999)                                                           0.000000   \n",
            "xXx (2002)                                                                0.000000   \n",
            "xXx: State of the Union (2005)                                            0.000000   \n",
            "¡Three Amigos! (1986)                                                     0.000000   \n",
            "À nous la liberté (Freedom for Us) (1931)                                 0.000000   \n",
            "\n",
            "title                                      'Round Midnight (1986)  \\\n",
            "title                                                               \n",
            "'71 (2014)                                               0.000000   \n",
            "'Hellboy': The Seeds of Creation (2004)                  0.707107   \n",
            "'Round Midnight (1986)                                   1.000000   \n",
            "'Salem's Lot (2004)                                      0.000000   \n",
            "'Til There Was You (1997)                                0.000000   \n",
            "...                                                           ...   \n",
            "eXistenZ (1999)                                          0.000000   \n",
            "xXx (2002)                                               0.000000   \n",
            "xXx: State of the Union (2005)                           0.000000   \n",
            "¡Three Amigos! (1986)                                    0.000000   \n",
            "À nous la liberté (Freedom for Us) (1931)                0.000000   \n",
            "\n",
            "title                                      'Salem's Lot (2004)  \\\n",
            "title                                                            \n",
            "'71 (2014)                                            0.000000   \n",
            "'Hellboy': The Seeds of Creation (2004)               0.000000   \n",
            "'Round Midnight (1986)                                0.000000   \n",
            "'Salem's Lot (2004)                                   1.000000   \n",
            "'Til There Was You (1997)                             0.857493   \n",
            "...                                                        ...   \n",
            "eXistenZ (1999)                                       0.000000   \n",
            "xXx (2002)                                            0.000000   \n",
            "xXx: State of the Union (2005)                        0.000000   \n",
            "¡Three Amigos! (1986)                                 0.000000   \n",
            "À nous la liberté (Freedom for Us) (1931)             0.000000   \n",
            "\n",
            "title                                      'Til There Was You (1997)  \\\n",
            "title                                                                  \n",
            "'71 (2014)                                                  0.000000   \n",
            "'Hellboy': The Seeds of Creation (2004)                     0.000000   \n",
            "'Round Midnight (1986)                                      0.000000   \n",
            "'Salem's Lot (2004)                                         0.857493   \n",
            "'Til There Was You (1997)                                   1.000000   \n",
            "...                                                              ...   \n",
            "eXistenZ (1999)                                             0.000000   \n",
            "xXx (2002)                                                  0.000000   \n",
            "xXx: State of the Union (2005)                              0.000000   \n",
            "¡Three Amigos! (1986)                                       0.000000   \n",
            "À nous la liberté (Freedom for Us) (1931)                   0.000000   \n",
            "\n",
            "title                                      'Tis the Season for Love (2015)  \\\n",
            "title                                                                        \n",
            "'71 (2014)                                                             0.0   \n",
            "'Hellboy': The Seeds of Creation (2004)                                0.0   \n",
            "'Round Midnight (1986)                                                 0.0   \n",
            "'Salem's Lot (2004)                                                    0.0   \n",
            "'Til There Was You (1997)                                              0.0   \n",
            "...                                                                    ...   \n",
            "eXistenZ (1999)                                                        0.0   \n",
            "xXx (2002)                                                             0.0   \n",
            "xXx: State of the Union (2005)                                         0.0   \n",
            "¡Three Amigos! (1986)                                                  0.0   \n",
            "À nous la liberté (Freedom for Us) (1931)                              0.0   \n",
            "\n",
            "title                                      'burbs, The (1989)  \\\n",
            "title                                                           \n",
            "'71 (2014)                                           0.000000   \n",
            "'Hellboy': The Seeds of Creation (2004)              0.000000   \n",
            "'Round Midnight (1986)                               0.176777   \n",
            "'Salem's Lot (2004)                                  0.000000   \n",
            "'Til There Was You (1997)                            0.000000   \n",
            "...                                                       ...   \n",
            "eXistenZ (1999)                                      0.211467   \n",
            "xXx (2002)                                           0.089634   \n",
            "xXx: State of the Union (2005)                       0.000000   \n",
            "¡Three Amigos! (1986)                                0.372876   \n",
            "À nous la liberté (Freedom for Us) (1931)            0.000000   \n",
            "\n",
            "title                                      'night Mother (1986)  \\\n",
            "title                                                             \n",
            "'71 (2014)                                             0.000000   \n",
            "'Hellboy': The Seeds of Creation (2004)                0.000000   \n",
            "'Round Midnight (1986)                                 0.000000   \n",
            "'Salem's Lot (2004)                                    0.000000   \n",
            "'Til There Was You (1997)                              0.000000   \n",
            "...                                                         ...   \n",
            "eXistenZ (1999)                                        0.216295   \n",
            "xXx (2002)                                             0.000000   \n",
            "xXx: State of the Union (2005)                         0.000000   \n",
            "¡Three Amigos! (1986)                                  0.180009   \n",
            "À nous la liberté (Freedom for Us) (1931)              0.000000   \n",
            "\n",
            "title                                      (500) Days of Summer (2009)  \\\n",
            "title                                                                    \n",
            "'71 (2014)                                                    0.141653   \n",
            "'Hellboy': The Seeds of Creation (2004)                       0.000000   \n",
            "'Round Midnight (1986)                                        0.000000   \n",
            "'Salem's Lot (2004)                                           0.000000   \n",
            "'Til There Was You (1997)                                     0.000000   \n",
            "...                                                                ...   \n",
            "eXistenZ (1999)                                               0.097935   \n",
            "xXx (2002)                                                    0.276512   \n",
            "xXx: State of the Union (2005)                                0.156764   \n",
            "¡Three Amigos! (1986)                                         0.169385   \n",
            "À nous la liberté (Freedom for Us) (1931)                     0.000000   \n",
            "\n",
            "title                                      *batteries not included (1987)  \\\n",
            "title                                                                       \n",
            "'71 (2014)                                                       0.000000   \n",
            "'Hellboy': The Seeds of Creation (2004)                          0.000000   \n",
            "'Round Midnight (1986)                                           0.000000   \n",
            "'Salem's Lot (2004)                                              0.000000   \n",
            "'Til There Was You (1997)                                        0.000000   \n",
            "...                                                                   ...   \n",
            "eXistenZ (1999)                                                  0.132489   \n",
            "xXx (2002)                                                       0.019862   \n",
            "xXx: State of the Union (2005)                                   0.000000   \n",
            "¡Three Amigos! (1986)                                            0.249586   \n",
            "À nous la liberté (Freedom for Us) (1931)                        0.000000   \n",
            "\n",
            "title                                      ...  Zulu (2013)  [REC] (2007)  \\\n",
            "title                                      ...                              \n",
            "'71 (2014)                                 ...     0.000000      0.342055   \n",
            "'Hellboy': The Seeds of Creation (2004)    ...     0.000000      0.000000   \n",
            "'Round Midnight (1986)                     ...     0.000000      0.000000   \n",
            "'Salem's Lot (2004)                        ...     0.000000      0.000000   \n",
            "'Til There Was You (1997)                  ...     0.000000      0.000000   \n",
            "...                                        ...          ...           ...   \n",
            "eXistenZ (1999)                            ...     0.000000      0.000000   \n",
            "xXx (2002)                                 ...     0.069716      0.305535   \n",
            "xXx: State of the Union (2005)             ...     0.000000      0.382543   \n",
            "¡Three Amigos! (1986)                      ...     0.180009      0.000000   \n",
            "À nous la liberté (Freedom for Us) (1931)  ...     0.000000      0.000000   \n",
            "\n",
            "title                                      [REC]² (2009)  \\\n",
            "title                                                      \n",
            "'71 (2014)                                      0.543305   \n",
            "'Hellboy': The Seeds of Creation (2004)         0.000000   \n",
            "'Round Midnight (1986)                          0.000000   \n",
            "'Salem's Lot (2004)                             0.000000   \n",
            "'Til There Was You (1997)                       0.000000   \n",
            "...                                                  ...   \n",
            "eXistenZ (1999)                                 0.000000   \n",
            "xXx (2002)                                      0.173151   \n",
            "xXx: State of the Union (2005)                  0.177838   \n",
            "¡Three Amigos! (1986)                           0.000000   \n",
            "À nous la liberté (Freedom for Us) (1931)       0.000000   \n",
            "\n",
            "title                                      [REC]³ 3 Génesis (2012)  \\\n",
            "title                                                                \n",
            "'71 (2014)                                                0.707107   \n",
            "'Hellboy': The Seeds of Creation (2004)                   0.000000   \n",
            "'Round Midnight (1986)                                    0.000000   \n",
            "'Salem's Lot (2004)                                       0.000000   \n",
            "'Til There Was You (1997)                                 0.000000   \n",
            "...                                                            ...   \n",
            "eXistenZ (1999)                                           0.000000   \n",
            "xXx (2002)                                                0.246482   \n",
            "xXx: State of the Union (2005)                            0.231455   \n",
            "¡Three Amigos! (1986)                                     0.000000   \n",
            "À nous la liberté (Freedom for Us) (1931)                 0.000000   \n",
            "\n",
            "title                                      anohana: The Flower We Saw That Day - The Movie (2013)  \\\n",
            "title                                                                                               \n",
            "'71 (2014)                                                                               0.0        \n",
            "'Hellboy': The Seeds of Creation (2004)                                                  0.0        \n",
            "'Round Midnight (1986)                                                                   0.0        \n",
            "'Salem's Lot (2004)                                                                      0.0        \n",
            "'Til There Was You (1997)                                                                0.0        \n",
            "...                                                                                      ...        \n",
            "eXistenZ (1999)                                                                          0.0        \n",
            "xXx (2002)                                                                               0.0        \n",
            "xXx: State of the Union (2005)                                                           0.0        \n",
            "¡Three Amigos! (1986)                                                                    0.0        \n",
            "À nous la liberté (Freedom for Us) (1931)                                                0.0        \n",
            "\n",
            "title                                      eXistenZ (1999)  xXx (2002)  \\\n",
            "title                                                                    \n",
            "'71 (2014)                                        0.000000    0.139431   \n",
            "'Hellboy': The Seeds of Creation (2004)           0.000000    0.000000   \n",
            "'Round Midnight (1986)                            0.000000    0.000000   \n",
            "'Salem's Lot (2004)                               0.000000    0.000000   \n",
            "'Til There Was You (1997)                         0.000000    0.000000   \n",
            "...                                                    ...         ...   \n",
            "eXistenZ (1999)                                   1.000000    0.192259   \n",
            "xXx (2002)                                        0.192259    1.000000   \n",
            "xXx: State of the Union (2005)                    0.000000    0.270034   \n",
            "¡Three Amigos! (1986)                             0.170341    0.100396   \n",
            "À nous la liberté (Freedom for Us) (1931)         0.000000    0.000000   \n",
            "\n",
            "title                                      xXx: State of the Union (2005)  \\\n",
            "title                                                                       \n",
            "'71 (2014)                                                       0.327327   \n",
            "'Hellboy': The Seeds of Creation (2004)                          0.000000   \n",
            "'Round Midnight (1986)                                           0.000000   \n",
            "'Salem's Lot (2004)                                              0.000000   \n",
            "'Til There Was You (1997)                                        0.000000   \n",
            "...                                                                   ...   \n",
            "eXistenZ (1999)                                                  0.000000   \n",
            "xXx (2002)                                                       0.270034   \n",
            "xXx: State of the Union (2005)                                   1.000000   \n",
            "¡Three Amigos! (1986)                                            0.000000   \n",
            "À nous la liberté (Freedom for Us) (1931)                        0.000000   \n",
            "\n",
            "title                                      ¡Three Amigos! (1986)  \\\n",
            "title                                                              \n",
            "'71 (2014)                                              0.000000   \n",
            "'Hellboy': The Seeds of Creation (2004)                 0.000000   \n",
            "'Round Midnight (1986)                                  0.000000   \n",
            "'Salem's Lot (2004)                                     0.000000   \n",
            "'Til There Was You (1997)                               0.000000   \n",
            "...                                                          ...   \n",
            "eXistenZ (1999)                                         0.170341   \n",
            "xXx (2002)                                              0.100396   \n",
            "xXx: State of the Union (2005)                          0.000000   \n",
            "¡Three Amigos! (1986)                                   1.000000   \n",
            "À nous la liberté (Freedom for Us) (1931)               0.000000   \n",
            "\n",
            "title                                      À nous la liberté (Freedom for Us) (1931)  \n",
            "title                                                                                 \n",
            "'71 (2014)                                                                       0.0  \n",
            "'Hellboy': The Seeds of Creation (2004)                                          0.0  \n",
            "'Round Midnight (1986)                                                           0.0  \n",
            "'Salem's Lot (2004)                                                              0.0  \n",
            "'Til There Was You (1997)                                                        0.0  \n",
            "...                                                                              ...  \n",
            "eXistenZ (1999)                                                                  0.0  \n",
            "xXx (2002)                                                                       0.0  \n",
            "xXx: State of the Union (2005)                                                   0.0  \n",
            "¡Three Amigos! (1986)                                                            0.0  \n",
            "À nous la liberté (Freedom for Us) (1931)                                        1.0  \n",
            "\n",
            "[9719 rows x 9719 columns]\n"
          ]
        }
      ]
    },
    {
      "cell_type": "markdown",
      "source": [
        "✅ STEP 7: Define Recommendation Function"
      ],
      "metadata": {
        "id": "P1OqIvG2MzKx"
      }
    },
    {
      "cell_type": "code",
      "source": [
        "def recommend_movies(movie_title, num_recommendations=5):\n",
        "    if movie_title not in movie_similarity_df.columns:\n",
        "        return f\"❌ '{movie_title}' not found in the dataset.\"\n",
        "\n",
        "    similar_scores = movie_similarity_df[movie_title].sort_values(ascending=False)\n",
        "    top_movies = similar_scores.iloc[1:num_recommendations+1]\n",
        "    return top_movies"
      ],
      "metadata": {
        "id": "yS0M0aLjN-Hh"
      },
      "execution_count": 14,
      "outputs": []
    },
    {
      "cell_type": "markdown",
      "source": [
        "✅ STEP 8: Plot Recommendations as Bar Chart"
      ],
      "metadata": {
        "id": "ZQdiMX66NBzm"
      }
    },
    {
      "cell_type": "code",
      "source": [
        "def plot_recommendations(movie_title):\n",
        "    recs = recommend_movies(movie_title)\n",
        "\n",
        "    if isinstance(recs, str):\n",
        "        print(recs)\n",
        "    else:\n",
        "        recs.plot(kind='barh', title=f\"🎥 Top Recommendations for: {movie_title}\",\n",
        "                  color='skyblue')\n",
        "        plt.xlabel(\"Similarity Score\")\n",
        "        plt.gca().invert_yaxis()\n",
        "        plt.show()"
      ],
      "metadata": {
        "id": "gm9b_IEgNDvT"
      },
      "execution_count": 15,
      "outputs": []
    },
    {
      "cell_type": "markdown",
      "source": [
        "✅ STEP 9: Add Interactivity using ipywidgets"
      ],
      "metadata": {
        "id": "2EDJL_CRNLDX"
      }
    },
    {
      "cell_type": "code",
      "source": [
        "# @interact\n",
        "# def show_recommendations(movie=widgets.Dropdown(options=sorted(movie_similarity_df.columns), description=\"Select Movie:\")):\n",
        "#     plot_recommendations(movie)"
      ],
      "metadata": {
        "id": "P8ZCIYF_NNDJ"
      },
      "execution_count": 18,
      "outputs": []
    },
    {
      "cell_type": "code",
      "source": [
        "print(recommend_movies('Toy Story (1995)', 5))"
      ],
      "metadata": {
        "colab": {
          "base_uri": "https://localhost:8080/"
        },
        "id": "71JqZGRfOYTF",
        "outputId": "8bdfebef-07a1-41d1-ff97-095e854fdb85"
      },
      "execution_count": 17,
      "outputs": [
        {
          "output_type": "stream",
          "name": "stdout",
          "text": [
            "title\n",
            "Toy Story 2 (1999)                           0.572601\n",
            "Jurassic Park (1993)                         0.565637\n",
            "Independence Day (a.k.a. ID4) (1996)         0.564262\n",
            "Star Wars: Episode IV - A New Hope (1977)    0.557388\n",
            "Forrest Gump (1994)                          0.547096\n",
            "Name: Toy Story (1995), dtype: float64\n"
          ]
        }
      ]
    },
    {
      "cell_type": "markdown",
      "source": [
        "✅ Final Section (Optional): Future Work & Next Steps"
      ],
      "metadata": {
        "id": "AR6exFTONd0F"
      }
    },
    {
      "cell_type": "code",
      "source": [
        "## 🚀 Future Improvements\n",
        "\n",
        "- Add genre-based filtering or boost scores by popularity\n",
        "- Normalize user ratings to improve similarity\n",
        "- Build a Streamlit app for deployment\n",
        "- Use matrix factorization (e.g., SVD) for collaborative filtering\n",
        "- Evaluate performance with recall@k or precision@k\n",
        "\n",
        "---\n",
        "\n",
        "## 💬 Acknowledgment\n",
        "\n",
        "Dataset used: [MovieLens Latest Small Dataset](https://grouplens.org/datasets/movielens/latest/)\n",
        "\n",
        "Author: Pragyan Dash\n"
      ],
      "metadata": {
        "id": "qbpmySTyKKjF"
      },
      "execution_count": null,
      "outputs": []
    }
  ]
}