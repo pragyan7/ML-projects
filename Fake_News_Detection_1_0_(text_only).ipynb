{
  "nbformat": 4,
  "nbformat_minor": 0,
  "metadata": {
    "colab": {
      "provenance": [],
      "authorship_tag": "ABX9TyPn1xmByB3OAaBm8OTgmuc6",
      "include_colab_link": true
    },
    "kernelspec": {
      "name": "python3",
      "display_name": "Python 3"
    },
    "language_info": {
      "name": "python"
    }
  },
  "cells": [
    {
      "cell_type": "markdown",
      "metadata": {
        "id": "view-in-github",
        "colab_type": "text"
      },
      "source": [
        "<a href=\"https://colab.research.google.com/github/pragyan7/ML-projects/blob/main/Fake_News_Detection_1_0_(text_only).ipynb\" target=\"_parent\"><img src=\"https://colab.research.google.com/assets/colab-badge.svg\" alt=\"Open In Colab\"/></a>"
      ]
    },
    {
      "cell_type": "markdown",
      "source": [
        "📓 Step 1: Setup & Install Dependencies"
      ],
      "metadata": {
        "id": "QFVoGo4LX943"
      }
    },
    {
      "cell_type": "code",
      "execution_count": 19,
      "metadata": {
        "id": "jEWp2mxaWC5V"
      },
      "outputs": [],
      "source": [
        "# Install required libraries\n",
        "!pip install -q pyspark mlflow sqlalchemy shap\n",
        "\n",
        "# Other core libraries\n",
        "import pandas as pd\n",
        "import numpy as np\n",
        "import os\n",
        "from pyspark.sql import SparkSession\n",
        "from pyspark.sql.functions import col, length\n",
        "from sklearn.model_selection import train_test_split\n",
        "from sklearn.feature_extraction.text import TfidfVectorizer\n",
        "from sklearn.ensemble import RandomForestClassifier\n",
        "from sklearn.metrics import classification_report, confusion_matrix\n",
        "import mlflow\n",
        "import sqlite3"
      ]
    },
    {
      "cell_type": "markdown",
      "source": [
        "📓 Step 2: Load Dataset (Text Only)"
      ],
      "metadata": {
        "id": "Vsr2u4FdbJL8"
      }
    },
    {
      "cell_type": "code",
      "source": [
        "# Download dataset from Kaggle manually and upload to Colab\n",
        "\n",
        "fake_df = pd.read_csv(\"Fake.csv\")\n",
        "real_df = pd.read_csv(\"True.csv\")\n",
        "\n",
        "print(\"Fake shape:\", fake_df.shape)\n",
        "print(\"Real shape:\", real_df.shape)\n"
      ],
      "metadata": {
        "colab": {
          "base_uri": "https://localhost:8080/"
        },
        "id": "CwvbqlNeY-qG",
        "outputId": "5f094c5d-10d8-4fb5-e798-c0518662523e"
      },
      "execution_count": 3,
      "outputs": [
        {
          "output_type": "stream",
          "name": "stdout",
          "text": [
            "Fake shape: (23481, 4)\n",
            "Real shape: (21417, 4)\n"
          ]
        }
      ]
    },
    {
      "cell_type": "code",
      "source": [
        "# Add labels\n",
        "fake_df['label'] = 0\n",
        "real_df['label'] = 1\n",
        "\n",
        "# Combine and shuffle\n",
        "df = pd.concat([fake_df, real_df], axis=0).sample(frac=1).reset_index(drop=True)\n",
        "df = df[['title', 'text', 'label']]\n",
        "\n",
        "df.head()"
      ],
      "metadata": {
        "colab": {
          "base_uri": "https://localhost:8080/",
          "height": 206
        },
        "id": "CWPq_PJiZE6r",
        "outputId": "9ce46e55-a044-47d1-ac7c-19a7cbc1ded4"
      },
      "execution_count": 4,
      "outputs": [
        {
          "output_type": "execute_result",
          "data": {
            "text/plain": [
              "                                               title  \\\n",
              "0  Winnie Mandela 'in high spirits' after minor s...   \n",
              "1  TUCKER CARLSON Embarrasses Colby Professor Who...   \n",
              "2  EU executive not assessing impact of Catalan c...   \n",
              "3   WATCH: ‘The View’ Unanimously Rips Trump A Ne...   \n",
              "4   Trump Campaign CEO Didn’t Want His Kids In Sc...   \n",
              "\n",
              "                                                text  label  \n",
              "0  JOHANNESBURG (Reuters) - South African anti-ap...      1  \n",
              "1  From Hanlon s piece in the New Republic:Reject...      0  \n",
              "2  BRUSSELS (Reuters) - The European Union s exec...      1  \n",
              "3  The women of The View played the tape of Trump...      0  \n",
              "4  The court records from the divorce of Trump s ...      0  "
            ],
            "text/html": [
              "\n",
              "  <div id=\"df-0b12e7b0-b1c8-4530-b397-5e972f48c510\" class=\"colab-df-container\">\n",
              "    <div>\n",
              "<style scoped>\n",
              "    .dataframe tbody tr th:only-of-type {\n",
              "        vertical-align: middle;\n",
              "    }\n",
              "\n",
              "    .dataframe tbody tr th {\n",
              "        vertical-align: top;\n",
              "    }\n",
              "\n",
              "    .dataframe thead th {\n",
              "        text-align: right;\n",
              "    }\n",
              "</style>\n",
              "<table border=\"1\" class=\"dataframe\">\n",
              "  <thead>\n",
              "    <tr style=\"text-align: right;\">\n",
              "      <th></th>\n",
              "      <th>title</th>\n",
              "      <th>text</th>\n",
              "      <th>label</th>\n",
              "    </tr>\n",
              "  </thead>\n",
              "  <tbody>\n",
              "    <tr>\n",
              "      <th>0</th>\n",
              "      <td>Winnie Mandela 'in high spirits' after minor s...</td>\n",
              "      <td>JOHANNESBURG (Reuters) - South African anti-ap...</td>\n",
              "      <td>1</td>\n",
              "    </tr>\n",
              "    <tr>\n",
              "      <th>1</th>\n",
              "      <td>TUCKER CARLSON Embarrasses Colby Professor Who...</td>\n",
              "      <td>From Hanlon s piece in the New Republic:Reject...</td>\n",
              "      <td>0</td>\n",
              "    </tr>\n",
              "    <tr>\n",
              "      <th>2</th>\n",
              "      <td>EU executive not assessing impact of Catalan c...</td>\n",
              "      <td>BRUSSELS (Reuters) - The European Union s exec...</td>\n",
              "      <td>1</td>\n",
              "    </tr>\n",
              "    <tr>\n",
              "      <th>3</th>\n",
              "      <td>WATCH: ‘The View’ Unanimously Rips Trump A Ne...</td>\n",
              "      <td>The women of The View played the tape of Trump...</td>\n",
              "      <td>0</td>\n",
              "    </tr>\n",
              "    <tr>\n",
              "      <th>4</th>\n",
              "      <td>Trump Campaign CEO Didn’t Want His Kids In Sc...</td>\n",
              "      <td>The court records from the divorce of Trump s ...</td>\n",
              "      <td>0</td>\n",
              "    </tr>\n",
              "  </tbody>\n",
              "</table>\n",
              "</div>\n",
              "    <div class=\"colab-df-buttons\">\n",
              "\n",
              "  <div class=\"colab-df-container\">\n",
              "    <button class=\"colab-df-convert\" onclick=\"convertToInteractive('df-0b12e7b0-b1c8-4530-b397-5e972f48c510')\"\n",
              "            title=\"Convert this dataframe to an interactive table.\"\n",
              "            style=\"display:none;\">\n",
              "\n",
              "  <svg xmlns=\"http://www.w3.org/2000/svg\" height=\"24px\" viewBox=\"0 -960 960 960\">\n",
              "    <path d=\"M120-120v-720h720v720H120Zm60-500h600v-160H180v160Zm220 220h160v-160H400v160Zm0 220h160v-160H400v160ZM180-400h160v-160H180v160Zm440 0h160v-160H620v160ZM180-180h160v-160H180v160Zm440 0h160v-160H620v160Z\"/>\n",
              "  </svg>\n",
              "    </button>\n",
              "\n",
              "  <style>\n",
              "    .colab-df-container {\n",
              "      display:flex;\n",
              "      gap: 12px;\n",
              "    }\n",
              "\n",
              "    .colab-df-convert {\n",
              "      background-color: #E8F0FE;\n",
              "      border: none;\n",
              "      border-radius: 50%;\n",
              "      cursor: pointer;\n",
              "      display: none;\n",
              "      fill: #1967D2;\n",
              "      height: 32px;\n",
              "      padding: 0 0 0 0;\n",
              "      width: 32px;\n",
              "    }\n",
              "\n",
              "    .colab-df-convert:hover {\n",
              "      background-color: #E2EBFA;\n",
              "      box-shadow: 0px 1px 2px rgba(60, 64, 67, 0.3), 0px 1px 3px 1px rgba(60, 64, 67, 0.15);\n",
              "      fill: #174EA6;\n",
              "    }\n",
              "\n",
              "    .colab-df-buttons div {\n",
              "      margin-bottom: 4px;\n",
              "    }\n",
              "\n",
              "    [theme=dark] .colab-df-convert {\n",
              "      background-color: #3B4455;\n",
              "      fill: #D2E3FC;\n",
              "    }\n",
              "\n",
              "    [theme=dark] .colab-df-convert:hover {\n",
              "      background-color: #434B5C;\n",
              "      box-shadow: 0px 1px 3px 1px rgba(0, 0, 0, 0.15);\n",
              "      filter: drop-shadow(0px 1px 2px rgba(0, 0, 0, 0.3));\n",
              "      fill: #FFFFFF;\n",
              "    }\n",
              "  </style>\n",
              "\n",
              "    <script>\n",
              "      const buttonEl =\n",
              "        document.querySelector('#df-0b12e7b0-b1c8-4530-b397-5e972f48c510 button.colab-df-convert');\n",
              "      buttonEl.style.display =\n",
              "        google.colab.kernel.accessAllowed ? 'block' : 'none';\n",
              "\n",
              "      async function convertToInteractive(key) {\n",
              "        const element = document.querySelector('#df-0b12e7b0-b1c8-4530-b397-5e972f48c510');\n",
              "        const dataTable =\n",
              "          await google.colab.kernel.invokeFunction('convertToInteractive',\n",
              "                                                    [key], {});\n",
              "        if (!dataTable) return;\n",
              "\n",
              "        const docLinkHtml = 'Like what you see? Visit the ' +\n",
              "          '<a target=\"_blank\" href=https://colab.research.google.com/notebooks/data_table.ipynb>data table notebook</a>'\n",
              "          + ' to learn more about interactive tables.';\n",
              "        element.innerHTML = '';\n",
              "        dataTable['output_type'] = 'display_data';\n",
              "        await google.colab.output.renderOutput(dataTable, element);\n",
              "        const docLink = document.createElement('div');\n",
              "        docLink.innerHTML = docLinkHtml;\n",
              "        element.appendChild(docLink);\n",
              "      }\n",
              "    </script>\n",
              "  </div>\n",
              "\n",
              "\n",
              "    <div id=\"df-cef4c1b8-51bc-4873-8a23-f138ef651637\">\n",
              "      <button class=\"colab-df-quickchart\" onclick=\"quickchart('df-cef4c1b8-51bc-4873-8a23-f138ef651637')\"\n",
              "                title=\"Suggest charts\"\n",
              "                style=\"display:none;\">\n",
              "\n",
              "<svg xmlns=\"http://www.w3.org/2000/svg\" height=\"24px\"viewBox=\"0 0 24 24\"\n",
              "     width=\"24px\">\n",
              "    <g>\n",
              "        <path d=\"M19 3H5c-1.1 0-2 .9-2 2v14c0 1.1.9 2 2 2h14c1.1 0 2-.9 2-2V5c0-1.1-.9-2-2-2zM9 17H7v-7h2v7zm4 0h-2V7h2v10zm4 0h-2v-4h2v4z\"/>\n",
              "    </g>\n",
              "</svg>\n",
              "      </button>\n",
              "\n",
              "<style>\n",
              "  .colab-df-quickchart {\n",
              "      --bg-color: #E8F0FE;\n",
              "      --fill-color: #1967D2;\n",
              "      --hover-bg-color: #E2EBFA;\n",
              "      --hover-fill-color: #174EA6;\n",
              "      --disabled-fill-color: #AAA;\n",
              "      --disabled-bg-color: #DDD;\n",
              "  }\n",
              "\n",
              "  [theme=dark] .colab-df-quickchart {\n",
              "      --bg-color: #3B4455;\n",
              "      --fill-color: #D2E3FC;\n",
              "      --hover-bg-color: #434B5C;\n",
              "      --hover-fill-color: #FFFFFF;\n",
              "      --disabled-bg-color: #3B4455;\n",
              "      --disabled-fill-color: #666;\n",
              "  }\n",
              "\n",
              "  .colab-df-quickchart {\n",
              "    background-color: var(--bg-color);\n",
              "    border: none;\n",
              "    border-radius: 50%;\n",
              "    cursor: pointer;\n",
              "    display: none;\n",
              "    fill: var(--fill-color);\n",
              "    height: 32px;\n",
              "    padding: 0;\n",
              "    width: 32px;\n",
              "  }\n",
              "\n",
              "  .colab-df-quickchart:hover {\n",
              "    background-color: var(--hover-bg-color);\n",
              "    box-shadow: 0 1px 2px rgba(60, 64, 67, 0.3), 0 1px 3px 1px rgba(60, 64, 67, 0.15);\n",
              "    fill: var(--button-hover-fill-color);\n",
              "  }\n",
              "\n",
              "  .colab-df-quickchart-complete:disabled,\n",
              "  .colab-df-quickchart-complete:disabled:hover {\n",
              "    background-color: var(--disabled-bg-color);\n",
              "    fill: var(--disabled-fill-color);\n",
              "    box-shadow: none;\n",
              "  }\n",
              "\n",
              "  .colab-df-spinner {\n",
              "    border: 2px solid var(--fill-color);\n",
              "    border-color: transparent;\n",
              "    border-bottom-color: var(--fill-color);\n",
              "    animation:\n",
              "      spin 1s steps(1) infinite;\n",
              "  }\n",
              "\n",
              "  @keyframes spin {\n",
              "    0% {\n",
              "      border-color: transparent;\n",
              "      border-bottom-color: var(--fill-color);\n",
              "      border-left-color: var(--fill-color);\n",
              "    }\n",
              "    20% {\n",
              "      border-color: transparent;\n",
              "      border-left-color: var(--fill-color);\n",
              "      border-top-color: var(--fill-color);\n",
              "    }\n",
              "    30% {\n",
              "      border-color: transparent;\n",
              "      border-left-color: var(--fill-color);\n",
              "      border-top-color: var(--fill-color);\n",
              "      border-right-color: var(--fill-color);\n",
              "    }\n",
              "    40% {\n",
              "      border-color: transparent;\n",
              "      border-right-color: var(--fill-color);\n",
              "      border-top-color: var(--fill-color);\n",
              "    }\n",
              "    60% {\n",
              "      border-color: transparent;\n",
              "      border-right-color: var(--fill-color);\n",
              "    }\n",
              "    80% {\n",
              "      border-color: transparent;\n",
              "      border-right-color: var(--fill-color);\n",
              "      border-bottom-color: var(--fill-color);\n",
              "    }\n",
              "    90% {\n",
              "      border-color: transparent;\n",
              "      border-bottom-color: var(--fill-color);\n",
              "    }\n",
              "  }\n",
              "</style>\n",
              "\n",
              "      <script>\n",
              "        async function quickchart(key) {\n",
              "          const quickchartButtonEl =\n",
              "            document.querySelector('#' + key + ' button');\n",
              "          quickchartButtonEl.disabled = true;  // To prevent multiple clicks.\n",
              "          quickchartButtonEl.classList.add('colab-df-spinner');\n",
              "          try {\n",
              "            const charts = await google.colab.kernel.invokeFunction(\n",
              "                'suggestCharts', [key], {});\n",
              "          } catch (error) {\n",
              "            console.error('Error during call to suggestCharts:', error);\n",
              "          }\n",
              "          quickchartButtonEl.classList.remove('colab-df-spinner');\n",
              "          quickchartButtonEl.classList.add('colab-df-quickchart-complete');\n",
              "        }\n",
              "        (() => {\n",
              "          let quickchartButtonEl =\n",
              "            document.querySelector('#df-cef4c1b8-51bc-4873-8a23-f138ef651637 button');\n",
              "          quickchartButtonEl.style.display =\n",
              "            google.colab.kernel.accessAllowed ? 'block' : 'none';\n",
              "        })();\n",
              "      </script>\n",
              "    </div>\n",
              "\n",
              "    </div>\n",
              "  </div>\n"
            ],
            "application/vnd.google.colaboratory.intrinsic+json": {
              "type": "dataframe",
              "variable_name": "df",
              "summary": "{\n  \"name\": \"df\",\n  \"rows\": 44898,\n  \"fields\": [\n    {\n      \"column\": \"title\",\n      \"properties\": {\n        \"dtype\": \"string\",\n        \"num_unique_values\": 38729,\n        \"samples\": [\n          \"(Video) CNN Anchor Mocks \\u2018pitiful\\u2019 Hillary Campaign Watch Party\",\n          \"American McCarthyism: Neocon Warhawks\\u2019 Plan to Kill Antiwar Dissent in Media\",\n          \"#FireBenStein FOX NEWS\\u2019 BEN STEIN Calls President Trump \\u201cBozo the Clown\\u201d\\u2026\\u201dChuckles the Clown\\u201d [Video]\"\n        ],\n        \"semantic_type\": \"\",\n        \"description\": \"\"\n      }\n    },\n    {\n      \"column\": \"text\",\n      \"properties\": {\n        \"dtype\": \"string\",\n        \"num_unique_values\": 38646,\n        \"samples\": [\n          \"LOS ANGELES (Reuters) - After parleying a professional wrestling career as \\u201cThe Rock\\u201d into leading roles in Hollywood, Dwayne Johnson is entertaining the idea of jumping into the political ring, including perhaps even a run for the White House someday. Johnson, 44, who stars in the upcoming Disney animated film \\u201cMoana\\u201d as the voice of demigod Maui, told Reuters the excitement surrounding last week\\u2019s presidential election had renewed public interest in him running for office. \\u201cI love my country, I\\u2019m extremely patriotic and I also feel, especially now, leadership is so important, great leadership is so important, respected leadership is so important,\\u201d said Johnson, star of \\u201cThe Fast and the Furious\\u201d franchise  Asked specifically about a potential White House run, Johnson replied: \\u201cIf I felt like I could be an effective leader for us, and surround myself with really high-quality leaders, then sure, I would.\\u201d  It is not the first time Johnson\\u2019s name has been mentioned in political circles. Earlier this year, Johnson took to Instagram to thank a Washington Post journalist who said he had a \\u201cweirdly plausible path to a political career\\u201d as a mixed-race registered Republican from Florida, a swing state in the presidential election.  While Johnson did not specify which office he might seek, when he might run or which party he would represent, he said he thought that running a business as a producer in Hollywood had given him a discipline he hoped he could apply to politics.  \\u201cI\\u2019ve found really good success in being able to galvanize people in a positive way and continued to push them, as I\\u2019ve pushed myself along the way too, because I walk what I talk, daily, which I think is an important quality,\\u201d he said.  If Johnson does take on politics, he would be following another pro wrestler, Jesse \\u2018The Body\\u2019 Ventura, who served as governor of Minnesota, and body builder-turned-action star Arnold Schwarzenegger, who served two terms as Republican governor of California. Known for his catchphrase: \\u201cCan you smell what The Rock is cooking,\\u201d Johnson still participates in occasional World Wrestling Entertainment matches, alongside producing and starring in HBO\\u2019s sports dramedy \\u201cBallers\\u201d and the upcoming \\u201cBaywatch\\u201d film reboot. \",\n          \"WASHINGTON (Reuters) - U.S. Senator Jeff Flake said on Tuesday that Republican nominee Donald Trump will not be able to win the presidential election, and should not win it, if he maintains the positions that he holds now, including his harsh stance on immigration. In an interview, Flake said he still hopes Trump will change enough that the Republican senator from Arizona will be able to vote for the candidate in the Nov. 8 election. But, Flake said, \\u201cIt\\u2019s a slim hope.\\u201d He said that as things stand, Trump will even have difficulty clinching the state of Arizona if the nominee, who has called for building a wall on the border with Mexico, does not develop a more \\u201cserious\\u201d immigration policy. Arizona last voted for a Democratic presidential candidate two decades ago. \\u201cGiven the positions that he\\u2019s taken, if he continues to maintain those positions, if he continues to hold to the statements he has made, I don\\u2019t think he can win the presidency, nor do I think he should if he is unwilling to change,\\u201d Flake said of Trump. \\u201cThere is a big difference between winning a primary, getting what, 14 million votes, and getting 65 million votes that you\\u2019re going to need to win the presidency. In between those two numbers you encounter a number of swing voters, independents, who simply don\\u2019t cotton to the kind of message that he has been delivering. And that\\u2019s just the reality,\\u201d Flake said. Flake, 53, has long been one of Trump\\u2019s more vocal critics on Capitol Hill. Trump\\u2019s inflammatory remarks about immigrants have been a particular problem for Flake, whose Southwestern border state has a large Hispanic population. Flake was among eight senators who proposed comprehensive immigration reform in 2013. Flake memorably told a reporter last month that he would not be attending the Republican convention to nominate Trump because he had to mow the lawn. Flake told Vanity Fair magazine in July: \\u201cI don\\u2019t think that there\\u2019s much worry of a Trump presidency if he doesn\\u2019t change.\\u201d But he also insists that he will not vote for the Democratic candidate, former Secretary of State Hillary Clinton. Flake, a member of the House of Representatives for 12 years before being elected to the Senate in 2012, said Arizonans are more realistic and pragmatic on immigration than Trump. Right now, Flake said, Arizona is almost a \\u201ctoss-up\\u201d in the presidential election. Flake does not have to run for re-election to the Senate until 2018. His fellow Arizona senator, John McCain, is up for re-election this year, and faces both primary and general election challengers. McCain has said he backs Trump. Flake said he respected Senator Susan Collins of Maine, another Republican, who said in an opinion article published on Monday that she definitely would not vote for Trump. Flake said he was not prepared to follow Collins\\u2019 example, which did not set off a stampede of Trump repudiations. \",\n          \"THE GREAT SOCIETY $22 trillion, yes, that much has been spent along with so much more to get the black community out of poverty and hopelessness. Where are we today? Well, it seems we re in the same spot as decades ago with the inner cities still struggling:The Great Society welfare state entitlement programs remain the largest drivers of red ink at both the federal and state level. It gets worse as Obamacare, the inevitable capstone of the Great Society, kicks in (and  kick  is precisely the right word).Most of the Great Society was designed to fight LBJ s War on Poverty, the total cost of which has been the sum of $22 trillion in current dollars, as reckoned by the Heritage Foundation. The tally rises by about $1 trillion a year as more than 80 overlapping means-tested federal programs sap resources the country does not have. The $22 trillion figure is  three times the amount of money that the government has spent on all military wars in its history, from the Revolutionary War to the present,  says Heritage s Robert Rector.What do we have to show for all this federal largesse? The poverty rate hasn t budged. Instead, we ve seen the rise of multigenerational welfare dependency. For the $2 trillion the federal government has spent on education since 1965, test scores have plummeted and the achievement gap between minority students and their peers has barely budged. Families, the bedrock of an authentically great society, have suffered most in LBJ s great social experiment. The overall out-of-wedlock birth rate has ballooned from 8 percent in the mid-1960s to more than 40 percent today; from 25 percent to 73 percent among blacks.Now we have Obama asking the American taxpayer for more money because he s claiming the rioters have been  stripped away of opportunity Obama commented on the Baltimore riots and those who have been  stripped away of opportunity where there are no fathers  to offer  guidance,  where  manufacturing has been stripped away; and drugs have flooded the community, and the drug industry ends up being the primary employer for a whole lot of folks .  The president intimates that burning buildings, cars, and looting businesses is the result of hopelessness. I assure you, this is not hopelessness.Drug addictions strip away opportunity, but a future is there if you want it. Robbing neighbors, burning cars, and destroying businesses strips away opportunity for the community as a whole, but a future lies ahead if there is a will to grab it.Are you a young person fighting a terminal illness? If not, you are not without opportunity. You don t have the right to be hopeless.Having an absent father is heartbreaking when the father made the choice to leave. A one-parent home makes it harder, but not opportunity-less; just ask Dr. Ben Carson, Bill Clinton, Samuel L. Jackson, Gene Simmons, Louie Armstrong, Jackie Robinson   or the boy or girl down the street from a one-parent home, who WILL move ahead and make his/her opportunities.Ask any among those whose  opportunity  has been  stripped away,  if he/she will trade his current opportunity-deprived situation with a person suffering from terminal cancer   a cancer that has nothing to do with lifestyle. Take your pick of any devastating disease. It happens to you. You, a person from wealth, or a blue-collar home, or the poorest among us, and yet you have never had an addiction, or lived an unhealthy lifestyle outside of the occasional double cheeseburger, with bacon, and a side of cheese fries. You made a choice not to hang with a dangerous crowd. You innately know the difference between right and wrong, because, you know, all of us do know the difference.Your choice: live a productive and lawful life, or die soon of cancer. How fast will you find  opportunity?  In the blink of an eye? Probably.You picked your friends carefully, and got yourself into a working environment at the first opportunity. You appreciated your minimum wage, and took pride in the job you did. You went to school, graduated, and either went on to higher education or entered the work force   and you liked it, yet the cancer found you, and you know that without a miracle, your life will end at an early age. This is opportunity stripped away, not what s happening in Baltimore.Via: Maggie s Notebook\"\n        ],\n        \"semantic_type\": \"\",\n        \"description\": \"\"\n      }\n    },\n    {\n      \"column\": \"label\",\n      \"properties\": {\n        \"dtype\": \"number\",\n        \"std\": 0,\n        \"min\": 0,\n        \"max\": 1,\n        \"num_unique_values\": 2,\n        \"samples\": [\n          0,\n          1\n        ],\n        \"semantic_type\": \"\",\n        \"description\": \"\"\n      }\n    }\n  ]\n}"
            }
          },
          "metadata": {},
          "execution_count": 4
        }
      ]
    },
    {
      "cell_type": "markdown",
      "source": [
        "📓 Step 3: PySpark Preprocessing"
      ],
      "metadata": {
        "id": "RByBox-_bPIY"
      }
    },
    {
      "cell_type": "code",
      "source": [
        "# Start pyspark session\n",
        "spark = SparkSession.builder \\\n",
        "    .appName(\"FakeNewsDetection\") \\\n",
        "    .getOrCreate()\n",
        "\n",
        "# Convert pandas dataframe to Spark DataFrame\n",
        "spark_df = spark.createDataFrame(df)\n",
        "spark_df.printSchema()\n",
        "\n",
        "spark_df.select('text', 'label').show(5, truncate=80)\n",
        "\n",
        "spark_df = spark_df.dropna()\n",
        "spark_df = spark_df.filter(length(col('text')) > 100)"
      ],
      "metadata": {
        "colab": {
          "base_uri": "https://localhost:8080/"
        },
        "id": "hn9aV-cnay0_",
        "outputId": "7490bf0f-f77b-499c-a755-df74f541e9ff"
      },
      "execution_count": 5,
      "outputs": [
        {
          "output_type": "stream",
          "name": "stdout",
          "text": [
            "root\n",
            " |-- title: string (nullable = true)\n",
            " |-- text: string (nullable = true)\n",
            " |-- label: long (nullable = true)\n",
            "\n",
            "+--------------------------------------------------------------------------------+-----+\n",
            "|                                                                            text|label|\n",
            "+--------------------------------------------------------------------------------+-----+\n",
            "|JOHANNESBURG (Reuters) - South African anti-apartheid veteran Winnie Madikize...|    1|\n",
            "|From Hanlon s piece in the New Republic:Rejecting campus speakers is not an a...|    0|\n",
            "|BRUSSELS (Reuters) - The European Union s executive arm, the European Commiss...|    1|\n",
            "|The women of The View played the tape of Trump s grotesque remarks about grop...|    0|\n",
            "|The court records from the divorce of Trump s new campaign CEO have proved to...|    0|\n",
            "+--------------------------------------------------------------------------------+-----+\n",
            "only showing top 5 rows\n",
            "\n"
          ]
        }
      ]
    },
    {
      "cell_type": "markdown",
      "source": [
        "📓 Step 4: TF-IDF + Train-Test Split"
      ],
      "metadata": {
        "id": "nLzn09iCfUdw"
      }
    },
    {
      "cell_type": "code",
      "source": [
        "# Convert Spark → Pandas for model training\n",
        "clean_df = spark_df.toPandas()\n",
        "\n",
        "# Split data\n",
        "X_train, X_test, y_train, y_test = train_test_split(clean_df['text'], clean_df['label'], test_size=0.2, random_state=42)\n",
        "\n",
        "#TF-IDF Vectorizer\n",
        "tfidf = TfidfVectorizer(stop_words='english', max_df=0.7)   # max_df specifies that terms that appear in more than 70% of documents should be ignored\n",
        "X_train_tfidf = tfidf.fit_transform(X_train)\n",
        "X_test_tfidf = tfidf.transform(X_test)                      # apply the 'same' vocabulary and IDF that were learned from the training data to the test data. If we were to call fit_transform() on test data, the vectorizer would learn a 'new' vocabulary and IDF based solely on the test set, which would not be representative of the overall data distribution and could lead to inaccurate results when evaluating the model."
      ],
      "metadata": {
        "id": "tnFezNOEe0B0"
      },
      "execution_count": 6,
      "outputs": []
    },
    {
      "cell_type": "markdown",
      "source": [
        "📓 Step 5: Train Model & Evaluate"
      ],
      "metadata": {
        "id": "_Yh0XYDYiL31"
      }
    },
    {
      "cell_type": "code",
      "source": [
        "model = RandomForestClassifier(n_estimators=100, random_state=42)\n",
        "model.fit(X_train_tfidf, y_train)\n",
        "\n",
        "y_pred = model.predict(X_test_tfidf)\n",
        "\n",
        "print(confusion_matrix(y_test, y_pred))"
      ],
      "metadata": {
        "colab": {
          "base_uri": "https://localhost:8080/"
        },
        "id": "1smwLBW-iLbt",
        "outputId": "358e3d75-0d59-4a2c-dca8-f273fd003896"
      },
      "execution_count": 7,
      "outputs": [
        {
          "output_type": "stream",
          "name": "stdout",
          "text": [
            "[[4509   36]\n",
            " [  47 4179]]\n"
          ]
        }
      ]
    },
    {
      "cell_type": "code",
      "source": [
        "print(classification_report(y_test, y_pred))"
      ],
      "metadata": {
        "id": "YFfTPk5Afhed",
        "colab": {
          "base_uri": "https://localhost:8080/"
        },
        "outputId": "f8f2bfbe-4034-40e0-e95e-4c06defce53c"
      },
      "execution_count": 8,
      "outputs": [
        {
          "output_type": "stream",
          "name": "stdout",
          "text": [
            "              precision    recall  f1-score   support\n",
            "\n",
            "           0       0.99      0.99      0.99      4545\n",
            "           1       0.99      0.99      0.99      4226\n",
            "\n",
            "    accuracy                           0.99      8771\n",
            "   macro avg       0.99      0.99      0.99      8771\n",
            "weighted avg       0.99      0.99      0.99      8771\n",
            "\n"
          ]
        }
      ]
    },
    {
      "cell_type": "markdown",
      "source": [
        "📓 Step 6: MLflow Tracking"
      ],
      "metadata": {
        "id": "AWyj33gn3NYe"
      }
    },
    {
      "cell_type": "markdown",
      "source": [
        "Using the MLflow library to track the details and results of the machine learning experiment.\n",
        "\n",
        "*   A \"run\" represents a single execution of your machine learning code.\n",
        "*   Parameters are typically used to record the configuration or settings of your experiment\n",
        "\n"
      ],
      "metadata": {
        "id": "mwS4V0gF7mD0"
      }
    },
    {
      "cell_type": "code",
      "source": [
        "mlflow.set_experiment(\"Fake News Detection\")\n",
        "\n",
        "with mlflow.start_run():\n",
        "    mlflow.log_param(\"vectorizer\", \"TF-IDF\")\n",
        "    mlflow.log_param(\"model\", \"RandomForest\")\n",
        "\n",
        "    mlflow.log_metric(\"accuracy\", model.score(X_test_tfidf, y_test))\n",
        "    # Use 'name' instead of 'artifact_path' which is deprecated\n",
        "    # Add input_example for better model logging\n",
        "    mlflow.sklearn.log_model(model, name=\"model\", input_example=X_train_tfidf[:2].toarray())\n",
        "    mlflow.log_artifact(\"Fake.csv\")\n",
        "    # mlflow.log_artifact(\"True.csv\")"
      ],
      "metadata": {
        "id": "ey8J6xla3KB2"
      },
      "execution_count": 11,
      "outputs": []
    },
    {
      "cell_type": "code",
      "source": [
        "!mlflow ui"
      ],
      "metadata": {
        "colab": {
          "base_uri": "https://localhost:8080/"
        },
        "id": "wi9aCLiR4Oqp",
        "outputId": "51138942-5ab2-4763-9b31-fff4b8249e2f"
      },
      "execution_count": 12,
      "outputs": [
        {
          "output_type": "stream",
          "name": "stdout",
          "text": [
            "[2025-07-10 06:08:08 +0000] [11797] [INFO] Starting gunicorn 23.0.0\n",
            "[2025-07-10 06:08:08 +0000] [11797] [INFO] Listening at: http://127.0.0.1:5000 (11797)\n",
            "[2025-07-10 06:08:08 +0000] [11797] [INFO] Using worker: sync\n",
            "[2025-07-10 06:08:08 +0000] [11798] [INFO] Booting worker with pid: 11798\n",
            "[2025-07-10 06:08:08 +0000] [11803] [INFO] Booting worker with pid: 11803\n",
            "[2025-07-10 06:08:08 +0000] [11806] [INFO] Booting worker with pid: 11806\n",
            "[2025-07-10 06:08:08 +0000] [11807] [INFO] Booting worker with pid: 11807\n",
            "[2025-07-10 06:43:56 +0000] [11797] [INFO] Handling signal: int\n",
            "\n",
            "Aborted!\n",
            "[2025-07-10 06:43:56 +0000] [11803] [INFO] Worker exiting (pid: 11803)\n",
            "[2025-07-10 06:43:56 +0000] [11798] [INFO] Worker exiting (pid: 11798)\n",
            "[2025-07-10 06:43:56 +0000] [11806] [INFO] Worker exiting (pid: 11806)\n",
            "[2025-07-10 06:43:56 +0000] [11807] [INFO] Worker exiting (pid: 11807)\n",
            "[2025-07-10 06:43:57 +0000] [11797] [INFO] Shutting down: Master\n"
          ]
        }
      ]
    },
    {
      "cell_type": "markdown",
      "source": [
        "📓 Step 7: Store Results in SQL (SQLite)"
      ],
      "metadata": {
        "id": "hDzN5stV-SYt"
      }
    },
    {
      "cell_type": "code",
      "source": [
        "conn = sqlite3.connect(\"predictions.db\")\n",
        "results_df = pd.DataFrame({\n",
        "    'text': X_test,\n",
        "    'label': y_test,\n",
        "    'predicted': y_pred\n",
        "})\n",
        "\n",
        "results_df.to_sql(\"predictions\", conn, if_exists='replace', index=False)"
      ],
      "metadata": {
        "colab": {
          "base_uri": "https://localhost:8080/"
        },
        "id": "cp0W291r8rhB",
        "outputId": "b57d8c7c-524a-4659-964c-ac127f6b29b9"
      },
      "execution_count": 13,
      "outputs": [
        {
          "output_type": "execute_result",
          "data": {
            "text/plain": [
              "8771"
            ]
          },
          "metadata": {},
          "execution_count": 13
        }
      ]
    },
    {
      "cell_type": "code",
      "source": [
        "results_df"
      ],
      "metadata": {
        "colab": {
          "base_uri": "https://localhost:8080/",
          "height": 423
        },
        "id": "KIiPLjY5AOqF",
        "outputId": "2cea2ad3-ce57-4745-e075-0ea084b0578a"
      },
      "execution_count": 14,
      "outputs": [
        {
          "output_type": "execute_result",
          "data": {
            "text/plain": [
              "                                                    text  label  predicted\n",
              "36565  NAIROBI (Reuters) - The U.S. embassy in Eritre...      1          1\n",
              "26992  If you re one of the people who saw Sarah Pali...      0          0\n",
              "29194  The first shot against PC tyranny in Virginia ...      0          0\n",
              "7963   MEXICO CITY (Reuters) - Pro-trade Republicans ...      1          1\n",
              "27717  So many acts of violence and vandalism have be...      0          0\n",
              "...                                                  ...    ...        ...\n",
              "23656  BEDMINSTER, N.J. (Reuters) - President-elect D...      1          1\n",
              "42658  KUALA LUMPUR (Reuters) - Malaysia is negotiati...      1          1\n",
              "40649  There s often much debate about the use of the...      0          0\n",
              "25632  WASHINGTON (Reuters) - U.S. House Democratic l...      1          1\n",
              "11847  MOGADISHU (Reuters) - Fighting between the mil...      1          1\n",
              "\n",
              "[8771 rows x 3 columns]"
            ],
            "text/html": [
              "\n",
              "  <div id=\"df-0543e45e-5cce-43a3-b684-db8d5a8fb4f0\" class=\"colab-df-container\">\n",
              "    <div>\n",
              "<style scoped>\n",
              "    .dataframe tbody tr th:only-of-type {\n",
              "        vertical-align: middle;\n",
              "    }\n",
              "\n",
              "    .dataframe tbody tr th {\n",
              "        vertical-align: top;\n",
              "    }\n",
              "\n",
              "    .dataframe thead th {\n",
              "        text-align: right;\n",
              "    }\n",
              "</style>\n",
              "<table border=\"1\" class=\"dataframe\">\n",
              "  <thead>\n",
              "    <tr style=\"text-align: right;\">\n",
              "      <th></th>\n",
              "      <th>text</th>\n",
              "      <th>label</th>\n",
              "      <th>predicted</th>\n",
              "    </tr>\n",
              "  </thead>\n",
              "  <tbody>\n",
              "    <tr>\n",
              "      <th>36565</th>\n",
              "      <td>NAIROBI (Reuters) - The U.S. embassy in Eritre...</td>\n",
              "      <td>1</td>\n",
              "      <td>1</td>\n",
              "    </tr>\n",
              "    <tr>\n",
              "      <th>26992</th>\n",
              "      <td>If you re one of the people who saw Sarah Pali...</td>\n",
              "      <td>0</td>\n",
              "      <td>0</td>\n",
              "    </tr>\n",
              "    <tr>\n",
              "      <th>29194</th>\n",
              "      <td>The first shot against PC tyranny in Virginia ...</td>\n",
              "      <td>0</td>\n",
              "      <td>0</td>\n",
              "    </tr>\n",
              "    <tr>\n",
              "      <th>7963</th>\n",
              "      <td>MEXICO CITY (Reuters) - Pro-trade Republicans ...</td>\n",
              "      <td>1</td>\n",
              "      <td>1</td>\n",
              "    </tr>\n",
              "    <tr>\n",
              "      <th>27717</th>\n",
              "      <td>So many acts of violence and vandalism have be...</td>\n",
              "      <td>0</td>\n",
              "      <td>0</td>\n",
              "    </tr>\n",
              "    <tr>\n",
              "      <th>...</th>\n",
              "      <td>...</td>\n",
              "      <td>...</td>\n",
              "      <td>...</td>\n",
              "    </tr>\n",
              "    <tr>\n",
              "      <th>23656</th>\n",
              "      <td>BEDMINSTER, N.J. (Reuters) - President-elect D...</td>\n",
              "      <td>1</td>\n",
              "      <td>1</td>\n",
              "    </tr>\n",
              "    <tr>\n",
              "      <th>42658</th>\n",
              "      <td>KUALA LUMPUR (Reuters) - Malaysia is negotiati...</td>\n",
              "      <td>1</td>\n",
              "      <td>1</td>\n",
              "    </tr>\n",
              "    <tr>\n",
              "      <th>40649</th>\n",
              "      <td>There s often much debate about the use of the...</td>\n",
              "      <td>0</td>\n",
              "      <td>0</td>\n",
              "    </tr>\n",
              "    <tr>\n",
              "      <th>25632</th>\n",
              "      <td>WASHINGTON (Reuters) - U.S. House Democratic l...</td>\n",
              "      <td>1</td>\n",
              "      <td>1</td>\n",
              "    </tr>\n",
              "    <tr>\n",
              "      <th>11847</th>\n",
              "      <td>MOGADISHU (Reuters) - Fighting between the mil...</td>\n",
              "      <td>1</td>\n",
              "      <td>1</td>\n",
              "    </tr>\n",
              "  </tbody>\n",
              "</table>\n",
              "<p>8771 rows × 3 columns</p>\n",
              "</div>\n",
              "    <div class=\"colab-df-buttons\">\n",
              "\n",
              "  <div class=\"colab-df-container\">\n",
              "    <button class=\"colab-df-convert\" onclick=\"convertToInteractive('df-0543e45e-5cce-43a3-b684-db8d5a8fb4f0')\"\n",
              "            title=\"Convert this dataframe to an interactive table.\"\n",
              "            style=\"display:none;\">\n",
              "\n",
              "  <svg xmlns=\"http://www.w3.org/2000/svg\" height=\"24px\" viewBox=\"0 -960 960 960\">\n",
              "    <path d=\"M120-120v-720h720v720H120Zm60-500h600v-160H180v160Zm220 220h160v-160H400v160Zm0 220h160v-160H400v160ZM180-400h160v-160H180v160Zm440 0h160v-160H620v160ZM180-180h160v-160H180v160Zm440 0h160v-160H620v160Z\"/>\n",
              "  </svg>\n",
              "    </button>\n",
              "\n",
              "  <style>\n",
              "    .colab-df-container {\n",
              "      display:flex;\n",
              "      gap: 12px;\n",
              "    }\n",
              "\n",
              "    .colab-df-convert {\n",
              "      background-color: #E8F0FE;\n",
              "      border: none;\n",
              "      border-radius: 50%;\n",
              "      cursor: pointer;\n",
              "      display: none;\n",
              "      fill: #1967D2;\n",
              "      height: 32px;\n",
              "      padding: 0 0 0 0;\n",
              "      width: 32px;\n",
              "    }\n",
              "\n",
              "    .colab-df-convert:hover {\n",
              "      background-color: #E2EBFA;\n",
              "      box-shadow: 0px 1px 2px rgba(60, 64, 67, 0.3), 0px 1px 3px 1px rgba(60, 64, 67, 0.15);\n",
              "      fill: #174EA6;\n",
              "    }\n",
              "\n",
              "    .colab-df-buttons div {\n",
              "      margin-bottom: 4px;\n",
              "    }\n",
              "\n",
              "    [theme=dark] .colab-df-convert {\n",
              "      background-color: #3B4455;\n",
              "      fill: #D2E3FC;\n",
              "    }\n",
              "\n",
              "    [theme=dark] .colab-df-convert:hover {\n",
              "      background-color: #434B5C;\n",
              "      box-shadow: 0px 1px 3px 1px rgba(0, 0, 0, 0.15);\n",
              "      filter: drop-shadow(0px 1px 2px rgba(0, 0, 0, 0.3));\n",
              "      fill: #FFFFFF;\n",
              "    }\n",
              "  </style>\n",
              "\n",
              "    <script>\n",
              "      const buttonEl =\n",
              "        document.querySelector('#df-0543e45e-5cce-43a3-b684-db8d5a8fb4f0 button.colab-df-convert');\n",
              "      buttonEl.style.display =\n",
              "        google.colab.kernel.accessAllowed ? 'block' : 'none';\n",
              "\n",
              "      async function convertToInteractive(key) {\n",
              "        const element = document.querySelector('#df-0543e45e-5cce-43a3-b684-db8d5a8fb4f0');\n",
              "        const dataTable =\n",
              "          await google.colab.kernel.invokeFunction('convertToInteractive',\n",
              "                                                    [key], {});\n",
              "        if (!dataTable) return;\n",
              "\n",
              "        const docLinkHtml = 'Like what you see? Visit the ' +\n",
              "          '<a target=\"_blank\" href=https://colab.research.google.com/notebooks/data_table.ipynb>data table notebook</a>'\n",
              "          + ' to learn more about interactive tables.';\n",
              "        element.innerHTML = '';\n",
              "        dataTable['output_type'] = 'display_data';\n",
              "        await google.colab.output.renderOutput(dataTable, element);\n",
              "        const docLink = document.createElement('div');\n",
              "        docLink.innerHTML = docLinkHtml;\n",
              "        element.appendChild(docLink);\n",
              "      }\n",
              "    </script>\n",
              "  </div>\n",
              "\n",
              "\n",
              "    <div id=\"df-3d7ca75f-093b-4cb9-8cc8-2dbcf7ab3e2b\">\n",
              "      <button class=\"colab-df-quickchart\" onclick=\"quickchart('df-3d7ca75f-093b-4cb9-8cc8-2dbcf7ab3e2b')\"\n",
              "                title=\"Suggest charts\"\n",
              "                style=\"display:none;\">\n",
              "\n",
              "<svg xmlns=\"http://www.w3.org/2000/svg\" height=\"24px\"viewBox=\"0 0 24 24\"\n",
              "     width=\"24px\">\n",
              "    <g>\n",
              "        <path d=\"M19 3H5c-1.1 0-2 .9-2 2v14c0 1.1.9 2 2 2h14c1.1 0 2-.9 2-2V5c0-1.1-.9-2-2-2zM9 17H7v-7h2v7zm4 0h-2V7h2v10zm4 0h-2v-4h2v4z\"/>\n",
              "    </g>\n",
              "</svg>\n",
              "      </button>\n",
              "\n",
              "<style>\n",
              "  .colab-df-quickchart {\n",
              "      --bg-color: #E8F0FE;\n",
              "      --fill-color: #1967D2;\n",
              "      --hover-bg-color: #E2EBFA;\n",
              "      --hover-fill-color: #174EA6;\n",
              "      --disabled-fill-color: #AAA;\n",
              "      --disabled-bg-color: #DDD;\n",
              "  }\n",
              "\n",
              "  [theme=dark] .colab-df-quickchart {\n",
              "      --bg-color: #3B4455;\n",
              "      --fill-color: #D2E3FC;\n",
              "      --hover-bg-color: #434B5C;\n",
              "      --hover-fill-color: #FFFFFF;\n",
              "      --disabled-bg-color: #3B4455;\n",
              "      --disabled-fill-color: #666;\n",
              "  }\n",
              "\n",
              "  .colab-df-quickchart {\n",
              "    background-color: var(--bg-color);\n",
              "    border: none;\n",
              "    border-radius: 50%;\n",
              "    cursor: pointer;\n",
              "    display: none;\n",
              "    fill: var(--fill-color);\n",
              "    height: 32px;\n",
              "    padding: 0;\n",
              "    width: 32px;\n",
              "  }\n",
              "\n",
              "  .colab-df-quickchart:hover {\n",
              "    background-color: var(--hover-bg-color);\n",
              "    box-shadow: 0 1px 2px rgba(60, 64, 67, 0.3), 0 1px 3px 1px rgba(60, 64, 67, 0.15);\n",
              "    fill: var(--button-hover-fill-color);\n",
              "  }\n",
              "\n",
              "  .colab-df-quickchart-complete:disabled,\n",
              "  .colab-df-quickchart-complete:disabled:hover {\n",
              "    background-color: var(--disabled-bg-color);\n",
              "    fill: var(--disabled-fill-color);\n",
              "    box-shadow: none;\n",
              "  }\n",
              "\n",
              "  .colab-df-spinner {\n",
              "    border: 2px solid var(--fill-color);\n",
              "    border-color: transparent;\n",
              "    border-bottom-color: var(--fill-color);\n",
              "    animation:\n",
              "      spin 1s steps(1) infinite;\n",
              "  }\n",
              "\n",
              "  @keyframes spin {\n",
              "    0% {\n",
              "      border-color: transparent;\n",
              "      border-bottom-color: var(--fill-color);\n",
              "      border-left-color: var(--fill-color);\n",
              "    }\n",
              "    20% {\n",
              "      border-color: transparent;\n",
              "      border-left-color: var(--fill-color);\n",
              "      border-top-color: var(--fill-color);\n",
              "    }\n",
              "    30% {\n",
              "      border-color: transparent;\n",
              "      border-left-color: var(--fill-color);\n",
              "      border-top-color: var(--fill-color);\n",
              "      border-right-color: var(--fill-color);\n",
              "    }\n",
              "    40% {\n",
              "      border-color: transparent;\n",
              "      border-right-color: var(--fill-color);\n",
              "      border-top-color: var(--fill-color);\n",
              "    }\n",
              "    60% {\n",
              "      border-color: transparent;\n",
              "      border-right-color: var(--fill-color);\n",
              "    }\n",
              "    80% {\n",
              "      border-color: transparent;\n",
              "      border-right-color: var(--fill-color);\n",
              "      border-bottom-color: var(--fill-color);\n",
              "    }\n",
              "    90% {\n",
              "      border-color: transparent;\n",
              "      border-bottom-color: var(--fill-color);\n",
              "    }\n",
              "  }\n",
              "</style>\n",
              "\n",
              "      <script>\n",
              "        async function quickchart(key) {\n",
              "          const quickchartButtonEl =\n",
              "            document.querySelector('#' + key + ' button');\n",
              "          quickchartButtonEl.disabled = true;  // To prevent multiple clicks.\n",
              "          quickchartButtonEl.classList.add('colab-df-spinner');\n",
              "          try {\n",
              "            const charts = await google.colab.kernel.invokeFunction(\n",
              "                'suggestCharts', [key], {});\n",
              "          } catch (error) {\n",
              "            console.error('Error during call to suggestCharts:', error);\n",
              "          }\n",
              "          quickchartButtonEl.classList.remove('colab-df-spinner');\n",
              "          quickchartButtonEl.classList.add('colab-df-quickchart-complete');\n",
              "        }\n",
              "        (() => {\n",
              "          let quickchartButtonEl =\n",
              "            document.querySelector('#df-3d7ca75f-093b-4cb9-8cc8-2dbcf7ab3e2b button');\n",
              "          quickchartButtonEl.style.display =\n",
              "            google.colab.kernel.accessAllowed ? 'block' : 'none';\n",
              "        })();\n",
              "      </script>\n",
              "    </div>\n",
              "\n",
              "  <div id=\"id_8193dc71-ff2a-4a06-bc1b-cb2c2712ac35\">\n",
              "    <style>\n",
              "      .colab-df-generate {\n",
              "        background-color: #E8F0FE;\n",
              "        border: none;\n",
              "        border-radius: 50%;\n",
              "        cursor: pointer;\n",
              "        display: none;\n",
              "        fill: #1967D2;\n",
              "        height: 32px;\n",
              "        padding: 0 0 0 0;\n",
              "        width: 32px;\n",
              "      }\n",
              "\n",
              "      .colab-df-generate:hover {\n",
              "        background-color: #E2EBFA;\n",
              "        box-shadow: 0px 1px 2px rgba(60, 64, 67, 0.3), 0px 1px 3px 1px rgba(60, 64, 67, 0.15);\n",
              "        fill: #174EA6;\n",
              "      }\n",
              "\n",
              "      [theme=dark] .colab-df-generate {\n",
              "        background-color: #3B4455;\n",
              "        fill: #D2E3FC;\n",
              "      }\n",
              "\n",
              "      [theme=dark] .colab-df-generate:hover {\n",
              "        background-color: #434B5C;\n",
              "        box-shadow: 0px 1px 3px 1px rgba(0, 0, 0, 0.15);\n",
              "        filter: drop-shadow(0px 1px 2px rgba(0, 0, 0, 0.3));\n",
              "        fill: #FFFFFF;\n",
              "      }\n",
              "    </style>\n",
              "    <button class=\"colab-df-generate\" onclick=\"generateWithVariable('results_df')\"\n",
              "            title=\"Generate code using this dataframe.\"\n",
              "            style=\"display:none;\">\n",
              "\n",
              "  <svg xmlns=\"http://www.w3.org/2000/svg\" height=\"24px\"viewBox=\"0 0 24 24\"\n",
              "       width=\"24px\">\n",
              "    <path d=\"M7,19H8.4L18.45,9,17,7.55,7,17.6ZM5,21V16.75L18.45,3.32a2,2,0,0,1,2.83,0l1.4,1.43a1.91,1.91,0,0,1,.58,1.4,1.91,1.91,0,0,1-.58,1.4L9.25,21ZM18.45,9,17,7.55Zm-12,3A5.31,5.31,0,0,0,4.9,8.1,5.31,5.31,0,0,0,1,6.5,5.31,5.31,0,0,0,4.9,4.9,5.31,5.31,0,0,0,6.5,1,5.31,5.31,0,0,0,8.1,4.9,5.31,5.31,0,0,0,12,6.5,5.46,5.46,0,0,0,6.5,12Z\"/>\n",
              "  </svg>\n",
              "    </button>\n",
              "    <script>\n",
              "      (() => {\n",
              "      const buttonEl =\n",
              "        document.querySelector('#id_8193dc71-ff2a-4a06-bc1b-cb2c2712ac35 button.colab-df-generate');\n",
              "      buttonEl.style.display =\n",
              "        google.colab.kernel.accessAllowed ? 'block' : 'none';\n",
              "\n",
              "      buttonEl.onclick = () => {\n",
              "        google.colab.notebook.generateWithVariable('results_df');\n",
              "      }\n",
              "      })();\n",
              "    </script>\n",
              "  </div>\n",
              "\n",
              "    </div>\n",
              "  </div>\n"
            ],
            "application/vnd.google.colaboratory.intrinsic+json": {
              "type": "dataframe",
              "variable_name": "results_df",
              "summary": "{\n  \"name\": \"results_df\",\n  \"rows\": 8771,\n  \"fields\": [\n    {\n      \"column\": \"text\",\n      \"properties\": {\n        \"dtype\": \"string\",\n        \"num_unique_values\": 8531,\n        \"samples\": [\n          \"https://youtu.be/E2KFe_htBSA And I think the forensic computer experts have raised serious questions. What we do know is that this was a hack-riddled election. We saw hacks into voter databases, into party databases, into individual email accounts. Ironically, while talking to the station who helped to provide fake polls showing Hillary crushing Trump in the general, Stein blamed her suspicions in part on the fake polls.  So it s extremely vulnerable,  she continued.  Americans deserve to have confidence in our vote. Berman followed up by asking if she has evidence that a hack took place. No,  she replied.  We do not have a smoking gun.    Daily CallerWell, let s just turn our democratic voting process upside down and spend millions on a recount with no basis other than Hillary lost and we re gonna do everything we can to steal this election back from Trump. \",\n          \"University of Wisconsin Madison, where NOT to send your kids to school The sale of hateful racist sweatshirts or hoodies on campus is really not surprising considering the University of WI Madison has been a hotbed for radical students and faculty for quite some time now. We shared a story about a U of WI Madison student who was given cover by his professor when the police came to talk to him during class after he was caught on camera spray painting racist graffiti all over school property.  Students at the University of Wisconsin-Madison are asking people to buy sweatshirts promoting violence against police officers and classifying all white people as racists. Racism,  claims one hoodie s page,  is a set of systematic, institutional, cultural, and epistemological (although not limited to said forms) structures that inherently empowers white folk and in turn disempowers people of color. This power dictates who lives, have housing, access to education/healthcare etc. Racism has little to do with hatred and mostly to do with who has power. White folk or those who see themselves as white are given said power inherently regardless of socioeconomic class, education etc. This is why white men created race in the first place to maintain power. Racism gave birth to the idea of race. This is a [sic] oversimplified definition,  the description continues.Facebook has already removed an original picture of the sweatshirt for not following Facebook s Community Standards. However, as of this writing, Facebook has yet to remove the post selling the sweatshirts.One of the sweatshirt says  If I Encounter Another Cop With A God Complex I m Going To Have To Show The World That They Are Human , seemingly promoting violence towards police.Via: Campus Reform\",\n          \"A Georgetown University associate professor had a month-long meltdown after a Muslim woman explained why she voted for President-elect Donald Trump.Asra Q. Nomani, a former Georgetown journalism professor and Wall Street Journal reporter, wrote an op-ed in The Washington Post Nov. 10 explaining why she, as a Muslim woman and  long-time liberal,  voted for Trump.  I support the Democratic Party s position on abortion, same-sex marriage and climate change,  Nomani wrote.  But I am a single mother who can t afford health insurance under Obamacare. Here is a portion of Nomani s op-ed explaining why she s supporting Trump:A lot is being said now about the  silent secret Trump supporters. This is my confession   and explanation: I   a 51-year-old, a Muslim, an immigrant woman  of color    am one of those silent voters for Donald Trump. And I m not a  bigot,   racist,   chauvinist  or  white supremacist,  as Trump voters are being called, nor part of some  whitelash. In the winter of 2008, as a lifelong liberal and proud daughter of West Virginia, a state born on the correct side of history on slavery, I moved to historically conservative Virginia only because the state had helped elect Barack Obama as the first African American president of the United States.But, then, for much of this past year, I have kept my electoral preference secret: I was leaning toward Republican presidential candidate Donald Trump.Tuesday evening, just minutes before the polls closed at Forestville Elementary School in mostly Democratic Fairfax County, I slipped between the cardboard partitions in the polling booth, a pen balanced carefully between my fingers, to mark my ballot for president, coloring in the circle beside the names of Trump and his running mate, Mike Pence.  WPJust prior to the election Nomani explains why she s voting for Trump:C. Christine Fair, a previously  friendly colleague,  went on a 31-day screed against Nomani spanning across Twitter and Facebook. According to Nomani s Dec. 23 follow-up complaint to the university, the  Peace and Security Studies  professor called her a  wretch,   clueless dolt  and a fame-monger.Fair also compared Trump to Adolf Hitler and asserted that Nomani s vote for Trump  helped normalize Nazis in DC.  She didn t clarify if she was referring to Trump supporters or actual Nazis marching the streets.She again attacked Nomani Dec. 6 with  an open letter  on Facebook, in which Fair told her to  f*ck off  and  GO TO HELL. It s unclear why Fair announces that she s  a slut. Nomani told The Daily Caller News Foundation that Georgetown professor Bruce Hoffman replied to her original Dec. 2 complaint on Dec. 3. He told her he forwarded her complaint to professor Irfan Nooruddin. Nooruddin is the faculty chair of Georgetown s School of Foreign Service.Nooruddin told Nomani in a Dec. 4 email that,  I shall follow up directly with Professor Fair.  Fair posted her Facebook rant about Nomani two days after Nooruddin said he would speak with her. Additionally, she threatened Nomani in an email Dec. 6 with  legal action.   Your attempt to silence my opinion or force a dialogue by involving my employer is unacceptable and any further action on your part to involve Georgetown will be met with legal action,  Fair wrote.  Your social media and email appeal to my employer with the intent or threat of damaging my employment status is a form of cyber bullying, which will not be tolerated.   Daily Caller \"\n        ],\n        \"semantic_type\": \"\",\n        \"description\": \"\"\n      }\n    },\n    {\n      \"column\": \"label\",\n      \"properties\": {\n        \"dtype\": \"number\",\n        \"std\": 0,\n        \"min\": 0,\n        \"max\": 1,\n        \"num_unique_values\": 2,\n        \"samples\": [\n          0,\n          1\n        ],\n        \"semantic_type\": \"\",\n        \"description\": \"\"\n      }\n    },\n    {\n      \"column\": \"predicted\",\n      \"properties\": {\n        \"dtype\": \"number\",\n        \"std\": 0,\n        \"min\": 0,\n        \"max\": 1,\n        \"num_unique_values\": 2,\n        \"samples\": [\n          0,\n          1\n        ],\n        \"semantic_type\": \"\",\n        \"description\": \"\"\n      }\n    }\n  ]\n}"
            }
          },
          "metadata": {},
          "execution_count": 14
        }
      ]
    },
    {
      "cell_type": "markdown",
      "source": [
        "📓 Step 8: Confusion Matrix (Heatmap)"
      ],
      "metadata": {
        "id": "Xnsc3sCMAfT_"
      }
    },
    {
      "cell_type": "code",
      "source": [
        "import seaborn as sns\n",
        "import matplotlib.pyplot as plt\n",
        "\n",
        "cm = confusion_matrix(y_test, y_pred)\n",
        "labels = ['Fake', 'Real']\n",
        "\n",
        "plt.figure(figsize=(6, 4))\n",
        "sns.heatmap(cm, annot=True, fmt='d', cmap='Blues', xticklabels=labels)\n",
        "\n",
        "plt.xlabel('Predicted Label')\n",
        "plt.ylabel('True Label')\n",
        "plt.title('Confusion Matrix')\n",
        "plt.show()"
      ],
      "metadata": {
        "colab": {
          "base_uri": "https://localhost:8080/",
          "height": 410
        },
        "id": "thjDiT8bAeOQ",
        "outputId": "af2876c4-8ab2-402f-b592-759eec9248fe"
      },
      "execution_count": 15,
      "outputs": [
        {
          "output_type": "display_data",
          "data": {
            "text/plain": [
              "<Figure size 600x400 with 2 Axes>"
            ],
            "image/png": "[encoded data removed]"
          },
          "metadata": {}
        }
      ]
    },
    {
      "cell_type": "markdown",
      "source": [
        "📓 Step 9: ROC Curve"
      ],
      "metadata": {
        "id": "7XJE1LKrB-qf"
      }
    },
    {
      "cell_type": "code",
      "source": [
        "from sklearn.metrics import roc_curve, auc\n",
        "\n",
        "y_prob = model.predict_proba(X_test_tfidf)[:, 1]\n",
        "\n",
        "# ROC Computation\n",
        "fpr, tpr, thresholds = roc_curve(y_test, y_prob)\n",
        "roc_auc = auc(fpr, tpr)\n",
        "\n",
        "# Plot\n",
        "plt.figure(figsize=(6, 4))\n",
        "plt.plot(fpr, tpr, color='darkorange', lw=2, label=f'ROC curve (AUC = {roc_auc:.2f})')\n",
        "plt.plot([0, 1], [0, 1], color='navy', lw=2, linestyle='--')\n",
        "plt.xlabel('False Positive Rate')\n",
        "plt.ylabel('True Positive Rate')\n",
        "plt.title('Receiver Operating Characteristic (ROC)')\n",
        "plt.legend(loc=\"lower right\")\n",
        "plt.grid(True)\n",
        "plt.show()"
      ],
      "metadata": {
        "colab": {
          "base_uri": "https://localhost:8080/",
          "height": 410
        },
        "id": "HzY3rep0BNNm",
        "outputId": "68e6c315-fe6e-4816-ed37-09d29a992ca1"
      },
      "execution_count": 18,
      "outputs": [
        {
          "output_type": "display_data",
          "data": {
            "text/plain": [
              "<Figure size 600x400 with 1 Axes>"
            ],
            "image/png": "[encoded data removed]"
          },
          "metadata": {}
        }
      ]
    },
    {
      "cell_type": "markdown",
      "source": [
        "SHAP on TF-IDF + RandomForest"
      ],
      "metadata": {
        "id": "vE-PO2FQHAJ0"
      }
    },
    {
      "cell_type": "markdown",
      "source": [
        "This code is designed to visualize SHAP (SHapley Additive exPlanations) values for a machine learning model, specifically for one test sample's prediction for the positive class (class 1). It's typically used in text classification models that use TF-IDF features."
      ],
      "metadata": {
        "id": "2HaXTivIUlSN"
      }
    },
    {
      "cell_type": "code",
      "source": [
        "import shap\n",
        "import numpy as np\n",
        "\n",
        "\n",
        "background_data = X_train_tfidf[:100].toarray()\n",
        "explainer = shap.TreeExplainer(model, background_data)\n",
        "\n",
        "# Select a single test sample to explain and convert it to a dense array\n",
        "sample_idx = 5\n",
        "test_sample_dense = X_test_tfidf[sample_idx].toarray()\n",
        "\n",
        "# Calculate SHAP values for the selected test sample\n",
        "shap_values = explainer(test_sample_dense)\n"
      ],
      "metadata": {
        "id": "f51bFtJHE7XP"
      },
      "execution_count": 27,
      "outputs": []
    },
    {
      "cell_type": "code",
      "source": [
        "import shap\n",
        "import numpy as np\n",
        "\n",
        "# To use shap.plots.text, we need to associate the SHAP values with the original text\n",
        "# and the corresponding feature names (which are the words/terms in the TF-IDF vocabulary).\n",
        "\n",
        "original_text_sample = X_test.iloc[sample_idx]\n",
        "\n",
        "feature_names = tfidf.get_feature_names_out()\n",
        "\n",
        "# Ensure shap_values is a single sample explanation if it's not already\n",
        "if isinstance(shap_values, list):\n",
        "    shap_values_single = shap_values[0]\n",
        "else:\n",
        "    shap_values_single = shap_values\n",
        "\n",
        "# # --- Inspection Code ---\n",
        "# print(\"Type of shap_values_single:\", type(shap_values_single))\n",
        "# if hasattr(shap_values_single, 'shape'):\n",
        "#     print(\"Shape of shap_values_single:\", shap_values_single.shape)\n",
        "# if hasattr(shap_values_single, 'values'):\n",
        "#     print(\"Type of shap_values_single.values:\", type(shap_values_single.values))\n",
        "#     print(\"Shape of shap_values_single.values:\", shap_values_single.values.shape)\n",
        "# if hasattr(shap_values_single, 'base_values'):\n",
        "#     print(\"Type of shap_values_single.base_values:\", type(shap_values_single.base_values))\n",
        "#     print(\"Shape of shap_values_single.base_values:\", shap_values_single.base_values.shape)\n",
        "# # --- End Inspection Code ---\n",
        "\n",
        "\n",
        "# The waterfall plot is a good alternative to understand the contribution of each feature.\n",
        "\n",
        "# Select the SHAP values and base value for the positive class (class 1)\n",
        "# Access the values for the first sample and the positive class output\n",
        "shap_values_positive_class_values = shap_values_single.values[0, :, 1]\n",
        "# Access the base value for the first sample and the positive class output\n",
        "base_value_positive_class = shap_values_single.base_values[0, 1]\n",
        "# Get the data (feature values) for the first sample\n",
        "sample_data = shap_values_single.data[0, :]\n",
        "\n",
        "\n",
        "# Create a new Explanation object for the positive class\n",
        "shap_explanation_positive_class = shap.Explanation(\n",
        "    values=shap_values_positive_class_values,\n",
        "    base_values=base_value_positive_class,\n",
        "    data=sample_data,\n",
        "    feature_names=feature_names\n",
        ")\n",
        "\n",
        "\n",
        "# Display the waterfall plot for the positive class explanation\n",
        "print(\"Displaying Waterfall Plot for Positive Class:\")\n",
        "shap.plots.waterfall(shap_explanation_positive_class)"
      ],
      "metadata": {
        "colab": {
          "base_uri": "https://localhost:8080/",
          "height": 635
        },
        "id": "5LkPO8K4ReU3",
        "outputId": "feea218d-85a1-4296-9653-20e35efa61ee"
      },
      "execution_count": 39,
      "outputs": [
        {
          "output_type": "stream",
          "name": "stdout",
          "text": [
            "Displaying Waterfall Plot for Positive Class:\n"
          ]
        },
        {
          "output_type": "display_data",
          "data": {
            "text/plain": [
              "<Figure size 800x650 with 3 Axes>"
            ],
            "image/png": "[encoded data removed]"
          },
          "metadata": {}
        }
      ]
    },
    {
      "cell_type": "code",
      "source": [
        "!pip install -q gradio"
      ],
      "metadata": {
        "id": "-Wxv43eqSD_i"
      },
      "execution_count": 40,
      "outputs": []
    },
    {
      "cell_type": "code",
      "source": [
        "# Define prediction function\n",
        "def classify_news(text):\n",
        "    if not text.strip():\n",
        "        return \"Please enter a news article\", 0.0\n",
        "\n",
        "    # Transform input using the same TF-IDF vectorizer\n",
        "    text_tfidf = tfidf.transform([text])\n",
        "\n",
        "    # Predict\n",
        "    prediction = model.predict(text_tfidf)[0]\n",
        "    probability = model.predict_proba(text_tfidf)[0][prediction]\n",
        "\n",
        "    # Convert label to human-readable\n",
        "    label = \"Real News\" if prediction == 1 else \"Fake News\"\n",
        "    return label, float(f\"{probability:.2f}\")\n"
      ],
      "metadata": {
        "id": "BM0cYrLPTk8I"
      },
      "execution_count": 42,
      "outputs": []
    },
    {
      "cell_type": "code",
      "source": [
        "import gradio as gr\n",
        "\n",
        "# Gradio interface\n",
        "demo = gr.Interface(\n",
        "    fn=classify_news,\n",
        "    inputs=gr.Textbox(lines=10, placeholder=\"Paste a news article here...\", label=\"News Article\"),\n",
        "    outputs=[\n",
        "        gr.Label(label=\"Prediction\"),\n",
        "        gr.Number(label=\"Confidence Score\")\n",
        "    ],\n",
        "    title=\"📰 Fake News Detector\",\n",
        "    description=\"Enter a news article to classify it as FAKE or REAL using a machine learning model.\",\n",
        "    allow_flagging=\"never\"\n",
        ")\n",
        "\n",
        "# Launch the app\n",
        "demo.launch()\n"
      ],
      "metadata": {
        "colab": {
          "base_uri": "https://localhost:8080/",
          "height": 690
        },
        "id": "KSr-167UZF0C",
        "outputId": "fd4fdf42-245d-46ed-ba79-ab09f72aec29"
      },
      "execution_count": 43,
      "outputs": [
        {
          "output_type": "stream",
          "name": "stderr",
          "text": [
            "/usr/local/lib/python3.11/dist-packages/gradio/interface.py:416: UserWarning: The `allow_flagging` parameter in `Interface` is deprecated.Use `flagging_mode` instead.\n",
            "  warnings.warn(\n"
          ]
        },
        {
          "output_type": "stream",
          "name": "stdout",
          "text": [
            "It looks like you are running Gradio on a hosted a Jupyter notebook. For the Gradio app to work, sharing must be enabled. Automatically setting `share=True` (you can turn this off by setting `share=False` in `launch()` explicitly).\n",
            "\n",
            "Colab notebook detected. To show errors in colab notebook, set debug=True in launch()\n",
            "* Running on public URL: https://cff52ac92c4b68fa82.gradio.live\n",
            "\n",
            "This share link expires in 1 week. For free permanent hosting and GPU upgrades, run `gradio deploy` from the terminal in the working directory to deploy to Hugging Face Spaces (https://huggingface.co/spaces)\n"
          ]
        },
        {
          "output_type": "display_data",
          "data": {
            "text/plain": [
              "<IPython.core.display.HTML object>"
            ],
            "text/html": [
              "<div><iframe src=\"https://cff52ac92c4b68fa82.gradio.live\" width=\"100%\" height=\"500\" allow=\"autoplay; camera; microphone; clipboard-read; clipboard-write;\" frameborder=\"0\" allowfullscreen></iframe></div>"
            ]
          },
          "metadata": {}
        },
        {
          "output_type": "execute_result",
          "data": {
            "text/plain": []
          },
          "metadata": {},
          "execution_count": 43
        }
      ]
    },
    {
      "cell_type": "code",
      "source": [],
      "metadata": {
        "id": "4T34NLrxZGbH"
      },
      "execution_count": null,
      "outputs": []
    }
  ]
}